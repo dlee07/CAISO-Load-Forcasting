{
  "nbformat": 4,
  "nbformat_minor": 0,
  "metadata": {
    "kernelspec": {
      "display_name": "Python 3",
      "language": "python",
      "name": "python3"
    },
    "language_info": {
      "codemirror_mode": {
        "name": "ipython",
        "version": 3
      },
      "file_extension": ".py",
      "mimetype": "text/x-python",
      "name": "python",
      "nbconvert_exporter": "python",
      "pygments_lexer": "ipython3",
      "version": "3.7.4"
    },
    "colab": {
      "name": "COMP152 Final Project.ipynb",
      "provenance": [],
      "collapsed_sections": []
    }
  },
  "cells": [
    {
      "cell_type": "code",
      "metadata": {
        "id": "U-a4N-jBOPfO",
        "colab_type": "code",
        "colab": {}
      },
      "source": [
        "# from google.colab import files\n",
        "# uploaded = files.upload()"
      ],
      "execution_count": 0,
      "outputs": []
    },
    {
      "cell_type": "code",
      "metadata": {
        "id": "Z_-neLIyNpfy",
        "colab_type": "code",
        "outputId": "7942946b-ced3-4263-ac9f-917d226277d5",
        "colab": {
          "base_uri": "https://localhost:8080/",
          "height": 156
        }
      },
      "source": [
        "#Call required libraries\n",
        "import time                   \n",
        "import warnings               \n",
        "import numpy as np            \n",
        "import pandas as pd           \n",
        "import matplotlib.pyplot as plt                   \n",
        "import seaborn as sns\n",
        "from sklearn.preprocessing import StandardScaler  \n",
        "from sklearn.cluster import KMeans, AgglomerativeClustering, AffinityPropagation\n",
        "from sklearn.mixture import GaussianMixture \n",
        "\n",
        "from google.colab import drive\n",
        "drive.mount('/content/drive')"
      ],
      "execution_count": 0,
      "outputs": [
        {
          "output_type": "stream",
          "text": [
            "/usr/local/lib/python3.6/dist-packages/statsmodels/tools/_testing.py:19: FutureWarning: pandas.util.testing is deprecated. Use the functions in the public API at pandas.testing instead.\n",
            "  import pandas.util.testing as tm\n"
          ],
          "name": "stderr"
        },
        {
          "output_type": "stream",
          "text": [
            "Go to this URL in a browser: https://accounts.google.com/o/oauth2/auth?client_id=947318989803-6bn6qk8qdgf4n4g3pfee6491hc0brc4i.apps.googleusercontent.com&redirect_uri=urn%3aietf%3awg%3aoauth%3a2.0%3aoob&response_type=code&scope=email%20https%3a%2f%2fwww.googleapis.com%2fauth%2fdocs.test%20https%3a%2f%2fwww.googleapis.com%2fauth%2fdrive%20https%3a%2f%2fwww.googleapis.com%2fauth%2fdrive.photos.readonly%20https%3a%2f%2fwww.googleapis.com%2fauth%2fpeopleapi.readonly\n",
            "\n",
            "Enter your authorization code:\n",
            "··········\n",
            "Mounted at /content/drive\n"
          ],
          "name": "stdout"
        }
      ]
    },
    {
      "cell_type": "markdown",
      "metadata": {
        "id": "JI7McZ7aNpf3",
        "colab_type": "text"
      },
      "source": [
        "# Data Analysis Section"
      ]
    },
    {
      "cell_type": "markdown",
      "metadata": {
        "id": "U7-0iVtzNpf4",
        "colab_type": "text"
      },
      "source": [
        "Read in all files and sheets"
      ]
    },
    {
      "cell_type": "code",
      "metadata": {
        "id": "JvygJUZvNpf4",
        "colab_type": "code",
        "colab": {}
      },
      "source": [
        "holiday_pd = pd.read_excel('/content/drive/My Drive/Data Folder/Data_Workbook.xlsx', sheet_name = 'Holiday Dates')\n",
        "lat_long_data = pd.read_excel('/content/drive/My Drive/Data Folder/Data_Workbook.xlsx', sheet_name = 'City-Lat-Long')\n",
        "county_load = pd.read_excel('/content/drive/My Drive/Data Folder/Data_Workbook.xlsx', sheet_name = 'Load By County 2018')\n",
        "county_gdp = pd.read_excel('/content/drive/My Drive/Data Folder/Data_Workbook.xlsx', sheet_name = 'GDP By County 2018')\n",
        "city_pop = pd.read_excel('/content/drive/My Drive/Data Folder/Data_Workbook.xlsx', sheet_name = 'City Population')\n",
        "city_elec = pd.read_excel('/content/drive/My Drive/Data Folder/City_Electricity_Data.xlsx')\n",
        "caiso_2016 = pd.read_excel('/content/drive/My Drive/Data Folder/CAISO Load.xlsx',sheet_name = '2016')\n",
        "caiso_2017 = pd.read_excel('/content/drive/My Drive/Data Folder/CAISO Load.xlsx',sheet_name = '2017')\n",
        "caiso_2018 = pd.read_excel('/content/drive/My Drive/Data Folder/CAISO Load.xlsx',sheet_name = '2018')\n",
        "city_wx_data = pd.read_csv('/content/drive/My Drive/Data Folder/all_wx_data.csv')\n",
        "city_elec_complete = city_elec.dropna()\n",
        "city_elec_complete = city_elec_complete.drop_duplicates()"
      ],
      "execution_count": 0,
      "outputs": []
    },
    {
      "cell_type": "code",
      "metadata": {
        "id": "OP1VCamlNpf7",
        "colab_type": "code",
        "outputId": "f90f895f-1b5c-44ac-f3db-112bfa92d3ed",
        "colab": {
          "base_uri": "https://localhost:8080/",
          "height": 34
        }
      },
      "source": [
        "len(city_wx_data)"
      ],
      "execution_count": 0,
      "outputs": [
        {
          "output_type": "execute_result",
          "data": {
            "text/plain": [
              "11852280"
            ]
          },
          "metadata": {
            "tags": []
          },
          "execution_count": 3
        }
      ]
    },
    {
      "cell_type": "code",
      "metadata": {
        "id": "-hFZ4GnHNpgA",
        "colab_type": "code",
        "colab": {}
      },
      "source": [
        "city_wx_data = city_wx_data[['City', 'Year', 'Month', 'Day', 'Hour', 'Temperature',\n",
        "       'Relative Humidity', 'Precipitable Water', 'Wind Direction',\n",
        "       'Cloud Type', 'Dew Point', 'Wind Speed']]\n",
        "city_elec_complete = city_elec_complete.reset_index()\n",
        "city_elec_complete = city_elec_complete.drop('index', axis = 1)\n",
        "city_wx_data = city_wx_data.drop_duplicates()\n",
        "caiso_total = caiso_2016.append([caiso_2017,caiso_2018])\n",
        "caiso_total['Date'] = pd.to_datetime(caiso_total['Date'])\n",
        "caiso_total['Month'] = caiso_total['Date'].dt.month\n",
        "caiso_total['Day'] = caiso_total['Date'].dt.day\n",
        "caiso_total['Year'] = caiso_total['Date'].dt.year\n",
        "caiso_total['Day_of_week'] = caiso_total['Date'].dt.dayofweek\n",
        "caiso_total['Week'] = caiso_total['Date'].dt.week\n",
        "caiso_total = caiso_total.rename(columns={\"HE\": \"Hour\"})"
      ],
      "execution_count": 0,
      "outputs": []
    },
    {
      "cell_type": "markdown",
      "metadata": {
        "id": "syX4whBLNpgE",
        "colab_type": "text"
      },
      "source": [
        "Merge All Data, Correlations and Visualizations"
      ]
    },
    {
      "cell_type": "code",
      "metadata": {
        "id": "qP9Z-aRqNpgE",
        "colab_type": "code",
        "outputId": "d3f7283c-274a-4eb3-9d3a-3c1784ea09f4",
        "colab": {
          "base_uri": "https://localhost:8080/",
          "height": 355
        }
      },
      "source": [
        "county_data = pd.merge(county_gdp,county_load, on = ['County'])\n",
        "correlations = county_data.corr() #Calculate the correlation of the above variables\n",
        "sns.heatmap(correlations, square = True) #Plot the correlation as heat map"
      ],
      "execution_count": 0,
      "outputs": [
        {
          "output_type": "execute_result",
          "data": {
            "text/plain": [
              "<matplotlib.axes._subplots.AxesSubplot at 0x7f455f04d198>"
            ]
          },
          "metadata": {
            "tags": []
          },
          "execution_count": 5
        },
        {
          "output_type": "display_data",
          "data": {
            "image/png": "[encoded data removed]",
            "text/plain": [
              "<Figure size 432x288 with 2 Axes>"
            ]
          },
          "metadata": {
            "tags": [],
            "needs_background": "light"
          }
        }
      ]
    },
    {
      "cell_type": "code",
      "metadata": {
        "id": "5YItA1PoomOt",
        "colab_type": "code",
        "outputId": "0faf7a70-961a-4829-9c67-8cad12138794",
        "colab": {
          "base_uri": "https://localhost:8080/",
          "height": 260
        }
      },
      "source": [
        "pip install geopandas"
      ],
      "execution_count": 0,
      "outputs": [
        {
          "output_type": "stream",
          "text": [
            "Requirement already satisfied: geopandas in /usr/local/lib/python3.6/dist-packages (0.7.0)\n",
            "Requirement already satisfied: fiona in /usr/local/lib/python3.6/dist-packages (from geopandas) (1.8.13.post1)\n",
            "Requirement already satisfied: pyproj>=2.2.0 in /usr/local/lib/python3.6/dist-packages (from geopandas) (2.6.0)\n",
            "Requirement already satisfied: pandas>=0.23.0 in /usr/local/lib/python3.6/dist-packages (from geopandas) (1.0.3)\n",
            "Requirement already satisfied: shapely in /usr/local/lib/python3.6/dist-packages (from geopandas) (1.7.0)\n",
            "Requirement already satisfied: attrs>=17 in /usr/local/lib/python3.6/dist-packages (from fiona->geopandas) (19.3.0)\n",
            "Requirement already satisfied: six>=1.7 in /usr/local/lib/python3.6/dist-packages (from fiona->geopandas) (1.12.0)\n",
            "Requirement already satisfied: munch in /usr/local/lib/python3.6/dist-packages (from fiona->geopandas) (2.5.0)\n",
            "Requirement already satisfied: click<8,>=4.0 in /usr/local/lib/python3.6/dist-packages (from fiona->geopandas) (7.1.1)\n",
            "Requirement already satisfied: click-plugins>=1.0 in /usr/local/lib/python3.6/dist-packages (from fiona->geopandas) (1.1.1)\n",
            "Requirement already satisfied: cligj>=0.5 in /usr/local/lib/python3.6/dist-packages (from fiona->geopandas) (0.5.0)\n",
            "Requirement already satisfied: python-dateutil>=2.6.1 in /usr/local/lib/python3.6/dist-packages (from pandas>=0.23.0->geopandas) (2.8.1)\n",
            "Requirement already satisfied: numpy>=1.13.3 in /usr/local/lib/python3.6/dist-packages (from pandas>=0.23.0->geopandas) (1.18.2)\n",
            "Requirement already satisfied: pytz>=2017.2 in /usr/local/lib/python3.6/dist-packages (from pandas>=0.23.0->geopandas) (2018.9)\n"
          ],
          "name": "stdout"
        }
      ]
    },
    {
      "cell_type": "code",
      "metadata": {
        "id": "CLN2OZdL6cnN",
        "colab_type": "code",
        "outputId": "f90d5841-9149-4c6c-b61a-bd7362ac99b2",
        "colab": {
          "base_uri": "https://localhost:8080/",
          "height": 122
        }
      },
      "source": [
        "pip install plotly-geo"
      ],
      "execution_count": 0,
      "outputs": [
        {
          "output_type": "stream",
          "text": [
            "Collecting plotly-geo\n",
            "\u001b[?25l  Downloading https://files.pythonhosted.org/packages/be/c6/be7d476e8c14c318c7b80329317d5dd5d1b876c393c9f8c0363b0dd188b8/plotly_geo-1.0.0-py3-none-any.whl (23.7MB)\n",
            "\u001b[K     |████████████████████████████████| 23.7MB 1.3MB/s \n",
            "\u001b[?25hInstalling collected packages: plotly-geo\n",
            "Successfully installed plotly-geo-1.0.0\n"
          ],
          "name": "stdout"
        }
      ]
    },
    {
      "cell_type": "code",
      "metadata": {
        "id": "6XBCA0VJ6tOi",
        "colab_type": "code",
        "outputId": "3bb547e0-5c6b-4895-cc4b-5b05854aa4d0",
        "colab": {
          "base_uri": "https://localhost:8080/",
          "height": 34
        }
      },
      "source": [
        "pip install shapely"
      ],
      "execution_count": 0,
      "outputs": [
        {
          "output_type": "stream",
          "text": [
            "Requirement already satisfied: shapely in /usr/local/lib/python3.6/dist-packages (1.7.0)\n"
          ],
          "name": "stdout"
        }
      ]
    },
    {
      "cell_type": "code",
      "metadata": {
        "id": "gZqeirzg7sxv",
        "colab_type": "code",
        "outputId": "9f2a7d72-d548-45da-a1db-72f1d6a762cd",
        "colab": {
          "base_uri": "https://localhost:8080/",
          "height": 35
        }
      },
      "source": [
        "pip install pyshp"
      ],
      "execution_count": 0,
      "outputs": [
        {
          "output_type": "stream",
          "text": [
            "Requirement already satisfied: pyshp in /usr/local/lib/python3.6/dist-packages (2.1.0)\n"
          ],
          "name": "stdout"
        }
      ]
    },
    {
      "cell_type": "markdown",
      "metadata": {
        "id": "BW2YNdQ_srGe",
        "colab_type": "text"
      },
      "source": [
        "# California State Map by Population and Electricity Consumption -- needs work Zo"
      ]
    },
    {
      "cell_type": "code",
      "metadata": {
        "id": "XlIzeTgoNpgJ",
        "colab_type": "code",
        "outputId": "a7212b43-2bfd-443f-c86d-93ff0763a230",
        "colab": {
          "base_uri": "https://localhost:8080/",
          "height": 575
        }
      },
      "source": [
        "import plotly.figure_factory as ff\n",
        "\n",
        "df_sample = pd.read_csv('https://raw.githubusercontent.com/plotly/datasets/master/minoritymajority.csv')\n",
        "df_sample_r = df_sample[df_sample['STNAME'] == 'California']\n",
        "\n",
        "county_data['FIPS Code'] = df_sample_r['FIPS'].values\n",
        "\n",
        "colorscale = [\n",
        "    'rgb(193, 193, 193)',\n",
        "    'rgb(239,239,239)',\n",
        "    'rgb(195, 196, 222)',\n",
        "    'rgb(144,148,194)',\n",
        "    'rgb(101,104,168)',\n",
        "    'rgb(65, 53, 132)'\n",
        "]\n",
        "\n",
        "fig = ff.create_choropleth(\n",
        "    fips=county_data['FIPS Code'].values, values=county_data['Population'].values, scope=['CA'],\n",
        "    binning_endpoints=[14348, 63983, 134827, 426762, 2081313], colorscale=colorscale,\n",
        "    county_outline={'color': 'rgb(255,255,255)', 'width': 0.5}, round_legend_values=True,\n",
        "    legend_title='Population by County', title='California by Population'\n",
        ")\n",
        "fig.layout.template = None\n",
        "fig.show()\n",
        "\n",
        "fig_1 = ff.create_choropleth(\n",
        "    fips=county_data['FIPS Code'].values, values=county_data['Non-Residential'].values, scope=['CA'],\n",
        "    binning_endpoints=[14348, 63983, 134827, 426762, 2081313], colorscale=colorscale,\n",
        "    county_outline={'color': 'rgb(255,255,255)', 'width': 0.5}, round_legend_values=True,\n",
        "    legend_title='Electricity Consumption by County', title='California by Non-Residential Electricity Consumption'\n",
        ")\n",
        "fig_1.layout.template = None\n",
        "fig_1.show()\n",
        "\n",
        "fig_1_1 = ff.create_choropleth(\n",
        "    fips=county_data['FIPS Code'].values, values=county_data['Residential'].values, scope=['CA'],\n",
        "    binning_endpoints=[14348, 63983, 134827, 426762, 2081313], colorscale=colorscale,\n",
        "    county_outline={'color': 'rgb(255,255,255)', 'width': 0.5}, round_legend_values=True,\n",
        "    legend_title='Electricity Consumption by County', title='California by Total Electricity Consumption'\n",
        ")\n",
        "fig_1_1.layout.template = None\n",
        "fig_1_1.show()\n",
        "\n",
        "fig_2 = ff.create_choropleth(\n",
        "    fips=county_data['FIPS Code'].values, values=county_data['Total'].values, scope=['CA'],\n",
        "    binning_endpoints=[14348, 63983, 134827, 426762, 2081313], colorscale=colorscale,\n",
        "    county_outline={'color': 'rgb(255,255,255)', 'width': 0.5}, round_legend_values=True,\n",
        "    legend_title='Electricity Consumption by County', title='California by Total Electricity Consumption'\n",
        ")\n",
        "fig_2.layout.template = None\n",
        "fig_2.show()\n"
      ],
      "execution_count": 0,
      "outputs": [
        {
          "output_type": "stream",
          "text": [
            "ERROR:root:An unexpected error occurred while tokenizing input\n",
            "The following traceback may be corrupted or invalid\n",
            "The error message is: ('EOF in multi-line string', (1, 0))\n",
            "\n"
          ],
          "name": "stderr"
        },
        {
          "output_type": "error",
          "ename": "ValueError",
          "evalue": "ignored",
          "traceback": [
            "\u001b[0;31m---------------------------------------------------------------------------\u001b[0m",
            "\u001b[0;31mValueError\u001b[0m                                Traceback (most recent call last)",
            "\u001b[0;32m<ipython-input-7-e2f5abc4c6ad>\u001b[0m in \u001b[0;36m<module>\u001b[0;34m()\u001b[0m\n\u001b[1;32m     19\u001b[0m     \u001b[0mbinning_endpoints\u001b[0m\u001b[0;34m=\u001b[0m\u001b[0;34m[\u001b[0m\u001b[0;36m14348\u001b[0m\u001b[0;34m,\u001b[0m \u001b[0;36m63983\u001b[0m\u001b[0;34m,\u001b[0m \u001b[0;36m134827\u001b[0m\u001b[0;34m,\u001b[0m \u001b[0;36m426762\u001b[0m\u001b[0;34m,\u001b[0m \u001b[0;36m2081313\u001b[0m\u001b[0;34m]\u001b[0m\u001b[0;34m,\u001b[0m \u001b[0mcolorscale\u001b[0m\u001b[0;34m=\u001b[0m\u001b[0mcolorscale\u001b[0m\u001b[0;34m,\u001b[0m\u001b[0;34m\u001b[0m\u001b[0;34m\u001b[0m\u001b[0m\n\u001b[1;32m     20\u001b[0m     \u001b[0mcounty_outline\u001b[0m\u001b[0;34m=\u001b[0m\u001b[0;34m{\u001b[0m\u001b[0;34m'color'\u001b[0m\u001b[0;34m:\u001b[0m \u001b[0;34m'rgb(255,255,255)'\u001b[0m\u001b[0;34m,\u001b[0m \u001b[0;34m'width'\u001b[0m\u001b[0;34m:\u001b[0m \u001b[0;36m0.5\u001b[0m\u001b[0;34m}\u001b[0m\u001b[0;34m,\u001b[0m \u001b[0mround_legend_values\u001b[0m\u001b[0;34m=\u001b[0m\u001b[0;32mTrue\u001b[0m\u001b[0;34m,\u001b[0m\u001b[0;34m\u001b[0m\u001b[0;34m\u001b[0m\u001b[0m\n\u001b[0;32m---> 21\u001b[0;31m     \u001b[0mlegend_title\u001b[0m\u001b[0;34m=\u001b[0m\u001b[0;34m'Population by County'\u001b[0m\u001b[0;34m,\u001b[0m \u001b[0mtitle\u001b[0m\u001b[0;34m=\u001b[0m\u001b[0;34m'California by Population'\u001b[0m\u001b[0;34m\u001b[0m\u001b[0;34m\u001b[0m\u001b[0m\n\u001b[0m\u001b[1;32m     22\u001b[0m )\n\u001b[1;32m     23\u001b[0m \u001b[0mfig\u001b[0m\u001b[0;34m.\u001b[0m\u001b[0mlayout\u001b[0m\u001b[0;34m.\u001b[0m\u001b[0mtemplate\u001b[0m \u001b[0;34m=\u001b[0m \u001b[0;32mNone\u001b[0m\u001b[0;34m\u001b[0m\u001b[0;34m\u001b[0m\u001b[0m\n",
            "\u001b[0;32m/usr/local/lib/python3.6/dist-packages/plotly/figure_factory/_county_choropleth.py\u001b[0m in \u001b[0;36mcreate_choropleth\u001b[0;34m(fips, values, scope, binning_endpoints, colorscale, order, simplify_county, simplify_state, asp, show_hover, show_state_data, state_outline, county_outline, centroid_marker, round_legend_values, exponent_format, legend_title, **layout_options)\u001b[0m\n\u001b[1;32m    620\u001b[0m \u001b[0;34m\u001b[0m\u001b[0m\n\u001b[1;32m    621\u001b[0m \u001b[0;31m$\u001b[0m \u001b[0mconda\u001b[0m \u001b[0minstall\u001b[0m \u001b[0;34m-\u001b[0m\u001b[0mc\u001b[0m \u001b[0mplotly\u001b[0m \u001b[0mplotly\u001b[0m\u001b[0;34m-\u001b[0m\u001b[0mgeo\u001b[0m\u001b[0;34m\u001b[0m\u001b[0;34m\u001b[0m\u001b[0m\n\u001b[0;32m--> 622\u001b[0;31m \"\"\"\n\u001b[0m\u001b[1;32m    623\u001b[0m         )\n\u001b[1;32m    624\u001b[0m \u001b[0;34m\u001b[0m\u001b[0m\n",
            "\u001b[0;31mValueError\u001b[0m: \nThe create_choropleth figure factory requires the plotly-geo package.\nInstall using pip with:\n\n$ pip install plotly-geo\n\nOr, install using conda with\n\n$ conda install -c plotly plotly-geo\n"
          ]
        }
      ]
    },
    {
      "cell_type": "code",
      "metadata": {
        "id": "ZfWQj41kNpgS",
        "colab_type": "code",
        "outputId": "33fd106a-2bc0-461c-b323-fd284c95c4f3",
        "colab": {
          "base_uri": "https://localhost:8080/",
          "height": 34
        }
      },
      "source": [
        "# No of cities we have electricity data on\n",
        "ca_cities = list(set(city_elec_complete.City.values))\n",
        "len(ca_cities)"
      ],
      "execution_count": 0,
      "outputs": [
        {
          "output_type": "execute_result",
          "data": {
            "text/plain": [
              "451"
            ]
          },
          "metadata": {
            "tags": []
          },
          "execution_count": 9
        }
      ]
    },
    {
      "cell_type": "markdown",
      "metadata": {
        "id": "9hvpRtysNpgW",
        "colab_type": "text"
      },
      "source": [
        "# Top Population Centers\n"
      ]
    },
    {
      "cell_type": "code",
      "metadata": {
        "id": "RlEtJhKFNpgW",
        "colab_type": "code",
        "outputId": "8335e566-dd8f-4151-e654-e732dce6aa45",
        "colab": {
          "base_uri": "https://localhost:8080/",
          "height": 359
        }
      },
      "source": [
        "city_population_ca = city_elec_complete[['City','total_pop']]\n",
        "city_population_ca.sort_values(ascending = False,by = 'total_pop').head(10)"
      ],
      "execution_count": 0,
      "outputs": [
        {
          "output_type": "execute_result",
          "data": {
            "text/html": [
              "<div>\n",
              "<style scoped>\n",
              "    .dataframe tbody tr th:only-of-type {\n",
              "        vertical-align: middle;\n",
              "    }\n",
              "\n",
              "    .dataframe tbody tr th {\n",
              "        vertical-align: top;\n",
              "    }\n",
              "\n",
              "    .dataframe thead th {\n",
              "        text-align: right;\n",
              "    }\n",
              "</style>\n",
              "<table border=\"1\" class=\"dataframe\">\n",
              "  <thead>\n",
              "    <tr style=\"text-align: right;\">\n",
              "      <th></th>\n",
              "      <th>City</th>\n",
              "      <th>total_pop</th>\n",
              "    </tr>\n",
              "  </thead>\n",
              "  <tbody>\n",
              "    <tr>\n",
              "      <th>0</th>\n",
              "      <td>Los Angeles</td>\n",
              "      <td>3918872.0</td>\n",
              "    </tr>\n",
              "    <tr>\n",
              "      <th>104</th>\n",
              "      <td>San Diego</td>\n",
              "      <td>1374812.0</td>\n",
              "    </tr>\n",
              "    <tr>\n",
              "      <th>349</th>\n",
              "      <td>San Jose</td>\n",
              "      <td>1009363.0</td>\n",
              "    </tr>\n",
              "    <tr>\n",
              "      <th>277</th>\n",
              "      <td>San Francisco</td>\n",
              "      <td>850282.0</td>\n",
              "    </tr>\n",
              "    <tr>\n",
              "      <th>246</th>\n",
              "      <td>Fresno</td>\n",
              "      <td>513807.0</td>\n",
              "    </tr>\n",
              "    <tr>\n",
              "      <th>278</th>\n",
              "      <td>Sacramento</td>\n",
              "      <td>484530.0</td>\n",
              "    </tr>\n",
              "    <tr>\n",
              "      <th>47</th>\n",
              "      <td>Long Beach</td>\n",
              "      <td>469793.0</td>\n",
              "    </tr>\n",
              "    <tr>\n",
              "      <th>316</th>\n",
              "      <td>Oakland</td>\n",
              "      <td>412040.0</td>\n",
              "    </tr>\n",
              "    <tr>\n",
              "      <th>214</th>\n",
              "      <td>Bakersfield</td>\n",
              "      <td>367555.0</td>\n",
              "    </tr>\n",
              "    <tr>\n",
              "      <th>174</th>\n",
              "      <td>Anaheim</td>\n",
              "      <td>346776.0</td>\n",
              "    </tr>\n",
              "  </tbody>\n",
              "</table>\n",
              "</div>"
            ],
            "text/plain": [
              "              City  total_pop\n",
              "0      Los Angeles  3918872.0\n",
              "104      San Diego  1374812.0\n",
              "349       San Jose  1009363.0\n",
              "277  San Francisco   850282.0\n",
              "246         Fresno   513807.0\n",
              "278     Sacramento   484530.0\n",
              "47      Long Beach   469793.0\n",
              "316        Oakland   412040.0\n",
              "214    Bakersfield   367555.0\n",
              "174        Anaheim   346776.0"
            ]
          },
          "metadata": {
            "tags": []
          },
          "execution_count": 8
        }
      ]
    },
    {
      "cell_type": "markdown",
      "metadata": {
        "id": "fhG_12VcNpgb",
        "colab_type": "text"
      },
      "source": [
        "# Top Load Centers"
      ]
    },
    {
      "cell_type": "code",
      "metadata": {
        "id": "2Gt7tyOfNpgc",
        "colab_type": "code",
        "outputId": "01dd6add-b86e-4b9b-ca04-1c35567bb90a",
        "colab": {
          "base_uri": "https://localhost:8080/",
          "height": 359
        }
      },
      "source": [
        "city_elec_complete['total_elec_mwh'] = city_elec_complete['res_elec_mwh']+city_elec_complete['com_elec_mwh']+city_elec_complete['ind_elec_mwh']\n",
        "city_elec_complete.sort_values(ascending = False,by = 'total_elec_mwh').head(10)"
      ],
      "execution_count": 0,
      "outputs": [
        {
          "output_type": "execute_result",
          "data": {
            "text/html": [
              "<div>\n",
              "<style scoped>\n",
              "    .dataframe tbody tr th:only-of-type {\n",
              "        vertical-align: middle;\n",
              "    }\n",
              "\n",
              "    .dataframe tbody tr th {\n",
              "        vertical-align: top;\n",
              "    }\n",
              "\n",
              "    .dataframe thead th {\n",
              "        text-align: right;\n",
              "    }\n",
              "</style>\n",
              "<table border=\"1\" class=\"dataframe\">\n",
              "  <thead>\n",
              "    <tr style=\"text-align: right;\">\n",
              "      <th></th>\n",
              "      <th>City</th>\n",
              "      <th>housing_units</th>\n",
              "      <th>total_pop</th>\n",
              "      <th>res_elec_mwh</th>\n",
              "      <th>com_units</th>\n",
              "      <th>com_elec_mwh</th>\n",
              "      <th>ind_units</th>\n",
              "      <th>ind_elec_mwh</th>\n",
              "      <th>total_elec_mwh</th>\n",
              "    </tr>\n",
              "  </thead>\n",
              "  <tbody>\n",
              "    <tr>\n",
              "      <th>0</th>\n",
              "      <td>Los Angeles</td>\n",
              "      <td>1355074.0</td>\n",
              "      <td>3918872.0</td>\n",
              "      <td>9043891.0</td>\n",
              "      <td>49649.0</td>\n",
              "      <td>12023369.0</td>\n",
              "      <td>49649.0</td>\n",
              "      <td>12023369.0</td>\n",
              "      <td>33090629.0</td>\n",
              "    </tr>\n",
              "    <tr>\n",
              "      <th>277</th>\n",
              "      <td>San Francisco</td>\n",
              "      <td>356797.0</td>\n",
              "      <td>850282.0</td>\n",
              "      <td>1326629.0</td>\n",
              "      <td>14641.0</td>\n",
              "      <td>4236898.0</td>\n",
              "      <td>14641.0</td>\n",
              "      <td>4236898.0</td>\n",
              "      <td>9800425.0</td>\n",
              "    </tr>\n",
              "    <tr>\n",
              "      <th>104</th>\n",
              "      <td>San Diego</td>\n",
              "      <td>490141.0</td>\n",
              "      <td>1374812.0</td>\n",
              "      <td>2370489.0</td>\n",
              "      <td>15918.0</td>\n",
              "      <td>2311372.0</td>\n",
              "      <td>15918.0</td>\n",
              "      <td>2311372.0</td>\n",
              "      <td>6993233.0</td>\n",
              "    </tr>\n",
              "    <tr>\n",
              "      <th>148</th>\n",
              "      <td>Moreno Valley</td>\n",
              "      <td>51324.0</td>\n",
              "      <td>202061.0</td>\n",
              "      <td>392159.0</td>\n",
              "      <td>1120.0</td>\n",
              "      <td>2382179.0</td>\n",
              "      <td>1120.0</td>\n",
              "      <td>2382179.0</td>\n",
              "      <td>5156517.0</td>\n",
              "    </tr>\n",
              "    <tr>\n",
              "      <th>349</th>\n",
              "      <td>San Jose</td>\n",
              "      <td>317315.0</td>\n",
              "      <td>1009363.0</td>\n",
              "      <td>1850979.0</td>\n",
              "      <td>10458.0</td>\n",
              "      <td>1517782.0</td>\n",
              "      <td>10458.0</td>\n",
              "      <td>1517782.0</td>\n",
              "      <td>4886543.0</td>\n",
              "    </tr>\n",
              "    <tr>\n",
              "      <th>278</th>\n",
              "      <td>Sacramento</td>\n",
              "      <td>179377.0</td>\n",
              "      <td>484530.0</td>\n",
              "      <td>1360998.0</td>\n",
              "      <td>5795.0</td>\n",
              "      <td>923123.0</td>\n",
              "      <td>5795.0</td>\n",
              "      <td>923123.0</td>\n",
              "      <td>3207244.0</td>\n",
              "    </tr>\n",
              "    <tr>\n",
              "      <th>246</th>\n",
              "      <td>Fresno</td>\n",
              "      <td>163926.0</td>\n",
              "      <td>513807.0</td>\n",
              "      <td>1248953.0</td>\n",
              "      <td>6081.0</td>\n",
              "      <td>956898.0</td>\n",
              "      <td>6081.0</td>\n",
              "      <td>956898.0</td>\n",
              "      <td>3162749.0</td>\n",
              "    </tr>\n",
              "    <tr>\n",
              "      <th>316</th>\n",
              "      <td>Oakland</td>\n",
              "      <td>159072.0</td>\n",
              "      <td>412040.0</td>\n",
              "      <td>728202.0</td>\n",
              "      <td>7043.0</td>\n",
              "      <td>984793.0</td>\n",
              "      <td>7043.0</td>\n",
              "      <td>984793.0</td>\n",
              "      <td>2697788.0</td>\n",
              "    </tr>\n",
              "    <tr>\n",
              "      <th>47</th>\n",
              "      <td>Long Beach</td>\n",
              "      <td>163850.0</td>\n",
              "      <td>469793.0</td>\n",
              "      <td>805726.0</td>\n",
              "      <td>5468.0</td>\n",
              "      <td>712853.0</td>\n",
              "      <td>5468.0</td>\n",
              "      <td>712853.0</td>\n",
              "      <td>2231432.0</td>\n",
              "    </tr>\n",
              "    <tr>\n",
              "      <th>21</th>\n",
              "      <td>Inglewood</td>\n",
              "      <td>36574.0</td>\n",
              "      <td>111012.0</td>\n",
              "      <td>161285.0</td>\n",
              "      <td>1496.0</td>\n",
              "      <td>934773.0</td>\n",
              "      <td>1496.0</td>\n",
              "      <td>934773.0</td>\n",
              "      <td>2030831.0</td>\n",
              "    </tr>\n",
              "  </tbody>\n",
              "</table>\n",
              "</div>"
            ],
            "text/plain": [
              "              City  housing_units  ...  ind_elec_mwh  total_elec_mwh\n",
              "0      Los Angeles      1355074.0  ...    12023369.0      33090629.0\n",
              "277  San Francisco       356797.0  ...     4236898.0       9800425.0\n",
              "104      San Diego       490141.0  ...     2311372.0       6993233.0\n",
              "148  Moreno Valley        51324.0  ...     2382179.0       5156517.0\n",
              "349       San Jose       317315.0  ...     1517782.0       4886543.0\n",
              "278     Sacramento       179377.0  ...      923123.0       3207244.0\n",
              "246         Fresno       163926.0  ...      956898.0       3162749.0\n",
              "316        Oakland       159072.0  ...      984793.0       2697788.0\n",
              "47      Long Beach       163850.0  ...      712853.0       2231432.0\n",
              "21       Inglewood        36574.0  ...      934773.0       2030831.0\n",
              "\n",
              "[10 rows x 9 columns]"
            ]
          },
          "metadata": {
            "tags": []
          },
          "execution_count": 9
        }
      ]
    },
    {
      "cell_type": "code",
      "metadata": {
        "id": "uF6ZE9X1Npgf",
        "colab_type": "code",
        "outputId": "ac2beb6f-762d-4a0a-b889-11648fa7fb6d",
        "colab": {
          "base_uri": "https://localhost:8080/",
          "height": 359
        }
      },
      "source": [
        "city_elec_complete.sort_values(ascending = False,by = 'com_elec_mwh').head(10)"
      ],
      "execution_count": 0,
      "outputs": [
        {
          "output_type": "execute_result",
          "data": {
            "text/html": [
              "<div>\n",
              "<style scoped>\n",
              "    .dataframe tbody tr th:only-of-type {\n",
              "        vertical-align: middle;\n",
              "    }\n",
              "\n",
              "    .dataframe tbody tr th {\n",
              "        vertical-align: top;\n",
              "    }\n",
              "\n",
              "    .dataframe thead th {\n",
              "        text-align: right;\n",
              "    }\n",
              "</style>\n",
              "<table border=\"1\" class=\"dataframe\">\n",
              "  <thead>\n",
              "    <tr style=\"text-align: right;\">\n",
              "      <th></th>\n",
              "      <th>City</th>\n",
              "      <th>housing_units</th>\n",
              "      <th>total_pop</th>\n",
              "      <th>res_elec_mwh</th>\n",
              "      <th>com_units</th>\n",
              "      <th>com_elec_mwh</th>\n",
              "      <th>ind_units</th>\n",
              "      <th>ind_elec_mwh</th>\n",
              "      <th>total_elec_mwh</th>\n",
              "    </tr>\n",
              "  </thead>\n",
              "  <tbody>\n",
              "    <tr>\n",
              "      <th>0</th>\n",
              "      <td>Los Angeles</td>\n",
              "      <td>1355074.0</td>\n",
              "      <td>3918872.0</td>\n",
              "      <td>9043891.0</td>\n",
              "      <td>49649.0</td>\n",
              "      <td>12023369.0</td>\n",
              "      <td>49649.0</td>\n",
              "      <td>12023369.0</td>\n",
              "      <td>33090629.0</td>\n",
              "    </tr>\n",
              "    <tr>\n",
              "      <th>277</th>\n",
              "      <td>San Francisco</td>\n",
              "      <td>356797.0</td>\n",
              "      <td>850282.0</td>\n",
              "      <td>1326629.0</td>\n",
              "      <td>14641.0</td>\n",
              "      <td>4236898.0</td>\n",
              "      <td>14641.0</td>\n",
              "      <td>4236898.0</td>\n",
              "      <td>9800425.0</td>\n",
              "    </tr>\n",
              "    <tr>\n",
              "      <th>148</th>\n",
              "      <td>Moreno Valley</td>\n",
              "      <td>51324.0</td>\n",
              "      <td>202061.0</td>\n",
              "      <td>392159.0</td>\n",
              "      <td>1120.0</td>\n",
              "      <td>2382179.0</td>\n",
              "      <td>1120.0</td>\n",
              "      <td>2382179.0</td>\n",
              "      <td>5156517.0</td>\n",
              "    </tr>\n",
              "    <tr>\n",
              "      <th>104</th>\n",
              "      <td>San Diego</td>\n",
              "      <td>490141.0</td>\n",
              "      <td>1374812.0</td>\n",
              "      <td>2370489.0</td>\n",
              "      <td>15918.0</td>\n",
              "      <td>2311372.0</td>\n",
              "      <td>15918.0</td>\n",
              "      <td>2311372.0</td>\n",
              "      <td>6993233.0</td>\n",
              "    </tr>\n",
              "    <tr>\n",
              "      <th>349</th>\n",
              "      <td>San Jose</td>\n",
              "      <td>317315.0</td>\n",
              "      <td>1009363.0</td>\n",
              "      <td>1850979.0</td>\n",
              "      <td>10458.0</td>\n",
              "      <td>1517782.0</td>\n",
              "      <td>10458.0</td>\n",
              "      <td>1517782.0</td>\n",
              "      <td>4886543.0</td>\n",
              "    </tr>\n",
              "    <tr>\n",
              "      <th>316</th>\n",
              "      <td>Oakland</td>\n",
              "      <td>159072.0</td>\n",
              "      <td>412040.0</td>\n",
              "      <td>728202.0</td>\n",
              "      <td>7043.0</td>\n",
              "      <td>984793.0</td>\n",
              "      <td>7043.0</td>\n",
              "      <td>984793.0</td>\n",
              "      <td>2697788.0</td>\n",
              "    </tr>\n",
              "    <tr>\n",
              "      <th>246</th>\n",
              "      <td>Fresno</td>\n",
              "      <td>163926.0</td>\n",
              "      <td>513807.0</td>\n",
              "      <td>1248953.0</td>\n",
              "      <td>6081.0</td>\n",
              "      <td>956898.0</td>\n",
              "      <td>6081.0</td>\n",
              "      <td>956898.0</td>\n",
              "      <td>3162749.0</td>\n",
              "    </tr>\n",
              "    <tr>\n",
              "      <th>21</th>\n",
              "      <td>Inglewood</td>\n",
              "      <td>36574.0</td>\n",
              "      <td>111012.0</td>\n",
              "      <td>161285.0</td>\n",
              "      <td>1496.0</td>\n",
              "      <td>934773.0</td>\n",
              "      <td>1496.0</td>\n",
              "      <td>934773.0</td>\n",
              "      <td>2030831.0</td>\n",
              "    </tr>\n",
              "    <tr>\n",
              "      <th>278</th>\n",
              "      <td>Sacramento</td>\n",
              "      <td>179377.0</td>\n",
              "      <td>484530.0</td>\n",
              "      <td>1360998.0</td>\n",
              "      <td>5795.0</td>\n",
              "      <td>923123.0</td>\n",
              "      <td>5795.0</td>\n",
              "      <td>923123.0</td>\n",
              "      <td>3207244.0</td>\n",
              "    </tr>\n",
              "    <tr>\n",
              "      <th>47</th>\n",
              "      <td>Long Beach</td>\n",
              "      <td>163850.0</td>\n",
              "      <td>469793.0</td>\n",
              "      <td>805726.0</td>\n",
              "      <td>5468.0</td>\n",
              "      <td>712853.0</td>\n",
              "      <td>5468.0</td>\n",
              "      <td>712853.0</td>\n",
              "      <td>2231432.0</td>\n",
              "    </tr>\n",
              "  </tbody>\n",
              "</table>\n",
              "</div>"
            ],
            "text/plain": [
              "              City  housing_units  ...  ind_elec_mwh  total_elec_mwh\n",
              "0      Los Angeles      1355074.0  ...    12023369.0      33090629.0\n",
              "277  San Francisco       356797.0  ...     4236898.0       9800425.0\n",
              "148  Moreno Valley        51324.0  ...     2382179.0       5156517.0\n",
              "104      San Diego       490141.0  ...     2311372.0       6993233.0\n",
              "349       San Jose       317315.0  ...     1517782.0       4886543.0\n",
              "316        Oakland       159072.0  ...      984793.0       2697788.0\n",
              "246         Fresno       163926.0  ...      956898.0       3162749.0\n",
              "21       Inglewood        36574.0  ...      934773.0       2030831.0\n",
              "278     Sacramento       179377.0  ...      923123.0       3207244.0\n",
              "47      Long Beach       163850.0  ...      712853.0       2231432.0\n",
              "\n",
              "[10 rows x 9 columns]"
            ]
          },
          "metadata": {
            "tags": []
          },
          "execution_count": 10
        }
      ]
    },
    {
      "cell_type": "code",
      "metadata": {
        "id": "IVcUmKAfNpgk",
        "colab_type": "code",
        "outputId": "2b1ee098-1925-4a26-d5b7-d13a8ba216dd",
        "colab": {
          "base_uri": "https://localhost:8080/",
          "height": 359
        }
      },
      "source": [
        "city_elec_complete.sort_values(ascending = False,by = 'ind_elec_mwh').head(10)"
      ],
      "execution_count": 0,
      "outputs": [
        {
          "output_type": "execute_result",
          "data": {
            "text/html": [
              "<div>\n",
              "<style scoped>\n",
              "    .dataframe tbody tr th:only-of-type {\n",
              "        vertical-align: middle;\n",
              "    }\n",
              "\n",
              "    .dataframe tbody tr th {\n",
              "        vertical-align: top;\n",
              "    }\n",
              "\n",
              "    .dataframe thead th {\n",
              "        text-align: right;\n",
              "    }\n",
              "</style>\n",
              "<table border=\"1\" class=\"dataframe\">\n",
              "  <thead>\n",
              "    <tr style=\"text-align: right;\">\n",
              "      <th></th>\n",
              "      <th>City</th>\n",
              "      <th>housing_units</th>\n",
              "      <th>total_pop</th>\n",
              "      <th>res_elec_mwh</th>\n",
              "      <th>com_units</th>\n",
              "      <th>com_elec_mwh</th>\n",
              "      <th>ind_units</th>\n",
              "      <th>ind_elec_mwh</th>\n",
              "      <th>total_elec_mwh</th>\n",
              "    </tr>\n",
              "  </thead>\n",
              "  <tbody>\n",
              "    <tr>\n",
              "      <th>0</th>\n",
              "      <td>Los Angeles</td>\n",
              "      <td>1355074.0</td>\n",
              "      <td>3918872.0</td>\n",
              "      <td>9043891.0</td>\n",
              "      <td>49649.0</td>\n",
              "      <td>12023369.0</td>\n",
              "      <td>49649.0</td>\n",
              "      <td>12023369.0</td>\n",
              "      <td>33090629.0</td>\n",
              "    </tr>\n",
              "    <tr>\n",
              "      <th>277</th>\n",
              "      <td>San Francisco</td>\n",
              "      <td>356797.0</td>\n",
              "      <td>850282.0</td>\n",
              "      <td>1326629.0</td>\n",
              "      <td>14641.0</td>\n",
              "      <td>4236898.0</td>\n",
              "      <td>14641.0</td>\n",
              "      <td>4236898.0</td>\n",
              "      <td>9800425.0</td>\n",
              "    </tr>\n",
              "    <tr>\n",
              "      <th>148</th>\n",
              "      <td>Moreno Valley</td>\n",
              "      <td>51324.0</td>\n",
              "      <td>202061.0</td>\n",
              "      <td>392159.0</td>\n",
              "      <td>1120.0</td>\n",
              "      <td>2382179.0</td>\n",
              "      <td>1120.0</td>\n",
              "      <td>2382179.0</td>\n",
              "      <td>5156517.0</td>\n",
              "    </tr>\n",
              "    <tr>\n",
              "      <th>104</th>\n",
              "      <td>San Diego</td>\n",
              "      <td>490141.0</td>\n",
              "      <td>1374812.0</td>\n",
              "      <td>2370489.0</td>\n",
              "      <td>15918.0</td>\n",
              "      <td>2311372.0</td>\n",
              "      <td>15918.0</td>\n",
              "      <td>2311372.0</td>\n",
              "      <td>6993233.0</td>\n",
              "    </tr>\n",
              "    <tr>\n",
              "      <th>349</th>\n",
              "      <td>San Jose</td>\n",
              "      <td>317315.0</td>\n",
              "      <td>1009363.0</td>\n",
              "      <td>1850979.0</td>\n",
              "      <td>10458.0</td>\n",
              "      <td>1517782.0</td>\n",
              "      <td>10458.0</td>\n",
              "      <td>1517782.0</td>\n",
              "      <td>4886543.0</td>\n",
              "    </tr>\n",
              "    <tr>\n",
              "      <th>316</th>\n",
              "      <td>Oakland</td>\n",
              "      <td>159072.0</td>\n",
              "      <td>412040.0</td>\n",
              "      <td>728202.0</td>\n",
              "      <td>7043.0</td>\n",
              "      <td>984793.0</td>\n",
              "      <td>7043.0</td>\n",
              "      <td>984793.0</td>\n",
              "      <td>2697788.0</td>\n",
              "    </tr>\n",
              "    <tr>\n",
              "      <th>246</th>\n",
              "      <td>Fresno</td>\n",
              "      <td>163926.0</td>\n",
              "      <td>513807.0</td>\n",
              "      <td>1248953.0</td>\n",
              "      <td>6081.0</td>\n",
              "      <td>956898.0</td>\n",
              "      <td>6081.0</td>\n",
              "      <td>956898.0</td>\n",
              "      <td>3162749.0</td>\n",
              "    </tr>\n",
              "    <tr>\n",
              "      <th>21</th>\n",
              "      <td>Inglewood</td>\n",
              "      <td>36574.0</td>\n",
              "      <td>111012.0</td>\n",
              "      <td>161285.0</td>\n",
              "      <td>1496.0</td>\n",
              "      <td>934773.0</td>\n",
              "      <td>1496.0</td>\n",
              "      <td>934773.0</td>\n",
              "      <td>2030831.0</td>\n",
              "    </tr>\n",
              "    <tr>\n",
              "      <th>278</th>\n",
              "      <td>Sacramento</td>\n",
              "      <td>179377.0</td>\n",
              "      <td>484530.0</td>\n",
              "      <td>1360998.0</td>\n",
              "      <td>5795.0</td>\n",
              "      <td>923123.0</td>\n",
              "      <td>5795.0</td>\n",
              "      <td>923123.0</td>\n",
              "      <td>3207244.0</td>\n",
              "    </tr>\n",
              "    <tr>\n",
              "      <th>47</th>\n",
              "      <td>Long Beach</td>\n",
              "      <td>163850.0</td>\n",
              "      <td>469793.0</td>\n",
              "      <td>805726.0</td>\n",
              "      <td>5468.0</td>\n",
              "      <td>712853.0</td>\n",
              "      <td>5468.0</td>\n",
              "      <td>712853.0</td>\n",
              "      <td>2231432.0</td>\n",
              "    </tr>\n",
              "  </tbody>\n",
              "</table>\n",
              "</div>"
            ],
            "text/plain": [
              "              City  housing_units  ...  ind_elec_mwh  total_elec_mwh\n",
              "0      Los Angeles      1355074.0  ...    12023369.0      33090629.0\n",
              "277  San Francisco       356797.0  ...     4236898.0       9800425.0\n",
              "148  Moreno Valley        51324.0  ...     2382179.0       5156517.0\n",
              "104      San Diego       490141.0  ...     2311372.0       6993233.0\n",
              "349       San Jose       317315.0  ...     1517782.0       4886543.0\n",
              "316        Oakland       159072.0  ...      984793.0       2697788.0\n",
              "246         Fresno       163926.0  ...      956898.0       3162749.0\n",
              "21       Inglewood        36574.0  ...      934773.0       2030831.0\n",
              "278     Sacramento       179377.0  ...      923123.0       3207244.0\n",
              "47      Long Beach       163850.0  ...      712853.0       2231432.0\n",
              "\n",
              "[10 rows x 9 columns]"
            ]
          },
          "metadata": {
            "tags": []
          },
          "execution_count": 11
        }
      ]
    },
    {
      "cell_type": "code",
      "metadata": {
        "id": "2s_DJGEYNpgp",
        "colab_type": "code",
        "outputId": "86159c33-10c7-48be-b438-bb797e3b0638",
        "colab": {
          "base_uri": "https://localhost:8080/",
          "height": 359
        }
      },
      "source": [
        "city_elec_complete.sort_values(ascending = False,by = 'res_elec_mwh').head(10)"
      ],
      "execution_count": 0,
      "outputs": [
        {
          "output_type": "execute_result",
          "data": {
            "text/html": [
              "<div>\n",
              "<style scoped>\n",
              "    .dataframe tbody tr th:only-of-type {\n",
              "        vertical-align: middle;\n",
              "    }\n",
              "\n",
              "    .dataframe tbody tr th {\n",
              "        vertical-align: top;\n",
              "    }\n",
              "\n",
              "    .dataframe thead th {\n",
              "        text-align: right;\n",
              "    }\n",
              "</style>\n",
              "<table border=\"1\" class=\"dataframe\">\n",
              "  <thead>\n",
              "    <tr style=\"text-align: right;\">\n",
              "      <th></th>\n",
              "      <th>City</th>\n",
              "      <th>housing_units</th>\n",
              "      <th>total_pop</th>\n",
              "      <th>res_elec_mwh</th>\n",
              "      <th>com_units</th>\n",
              "      <th>com_elec_mwh</th>\n",
              "      <th>ind_units</th>\n",
              "      <th>ind_elec_mwh</th>\n",
              "      <th>total_elec_mwh</th>\n",
              "    </tr>\n",
              "  </thead>\n",
              "  <tbody>\n",
              "    <tr>\n",
              "      <th>0</th>\n",
              "      <td>Los Angeles</td>\n",
              "      <td>1355074.0</td>\n",
              "      <td>3918872.0</td>\n",
              "      <td>9043891.0</td>\n",
              "      <td>49649.0</td>\n",
              "      <td>12023369.0</td>\n",
              "      <td>49649.0</td>\n",
              "      <td>12023369.0</td>\n",
              "      <td>33090629.0</td>\n",
              "    </tr>\n",
              "    <tr>\n",
              "      <th>104</th>\n",
              "      <td>San Diego</td>\n",
              "      <td>490141.0</td>\n",
              "      <td>1374812.0</td>\n",
              "      <td>2370489.0</td>\n",
              "      <td>15918.0</td>\n",
              "      <td>2311372.0</td>\n",
              "      <td>15918.0</td>\n",
              "      <td>2311372.0</td>\n",
              "      <td>6993233.0</td>\n",
              "    </tr>\n",
              "    <tr>\n",
              "      <th>349</th>\n",
              "      <td>San Jose</td>\n",
              "      <td>317315.0</td>\n",
              "      <td>1009363.0</td>\n",
              "      <td>1850979.0</td>\n",
              "      <td>10458.0</td>\n",
              "      <td>1517782.0</td>\n",
              "      <td>10458.0</td>\n",
              "      <td>1517782.0</td>\n",
              "      <td>4886543.0</td>\n",
              "    </tr>\n",
              "    <tr>\n",
              "      <th>278</th>\n",
              "      <td>Sacramento</td>\n",
              "      <td>179377.0</td>\n",
              "      <td>484530.0</td>\n",
              "      <td>1360998.0</td>\n",
              "      <td>5795.0</td>\n",
              "      <td>923123.0</td>\n",
              "      <td>5795.0</td>\n",
              "      <td>923123.0</td>\n",
              "      <td>3207244.0</td>\n",
              "    </tr>\n",
              "    <tr>\n",
              "      <th>277</th>\n",
              "      <td>San Francisco</td>\n",
              "      <td>356797.0</td>\n",
              "      <td>850282.0</td>\n",
              "      <td>1326629.0</td>\n",
              "      <td>14641.0</td>\n",
              "      <td>4236898.0</td>\n",
              "      <td>14641.0</td>\n",
              "      <td>4236898.0</td>\n",
              "      <td>9800425.0</td>\n",
              "    </tr>\n",
              "    <tr>\n",
              "      <th>246</th>\n",
              "      <td>Fresno</td>\n",
              "      <td>163926.0</td>\n",
              "      <td>513807.0</td>\n",
              "      <td>1248953.0</td>\n",
              "      <td>6081.0</td>\n",
              "      <td>956898.0</td>\n",
              "      <td>6081.0</td>\n",
              "      <td>956898.0</td>\n",
              "      <td>3162749.0</td>\n",
              "    </tr>\n",
              "    <tr>\n",
              "      <th>214</th>\n",
              "      <td>Bakersfield</td>\n",
              "      <td>113710.0</td>\n",
              "      <td>367555.0</td>\n",
              "      <td>931232.0</td>\n",
              "      <td>3399.0</td>\n",
              "      <td>440844.0</td>\n",
              "      <td>3399.0</td>\n",
              "      <td>440844.0</td>\n",
              "      <td>1812920.0</td>\n",
              "    </tr>\n",
              "    <tr>\n",
              "      <th>47</th>\n",
              "      <td>Long Beach</td>\n",
              "      <td>163850.0</td>\n",
              "      <td>469793.0</td>\n",
              "      <td>805726.0</td>\n",
              "      <td>5468.0</td>\n",
              "      <td>712853.0</td>\n",
              "      <td>5468.0</td>\n",
              "      <td>712853.0</td>\n",
              "      <td>2231432.0</td>\n",
              "    </tr>\n",
              "    <tr>\n",
              "      <th>144</th>\n",
              "      <td>Riverside</td>\n",
              "      <td>92025.0</td>\n",
              "      <td>318678.0</td>\n",
              "      <td>736039.0</td>\n",
              "      <td>3256.0</td>\n",
              "      <td>399748.0</td>\n",
              "      <td>3256.0</td>\n",
              "      <td>399748.0</td>\n",
              "      <td>1535535.0</td>\n",
              "    </tr>\n",
              "    <tr>\n",
              "      <th>316</th>\n",
              "      <td>Oakland</td>\n",
              "      <td>159072.0</td>\n",
              "      <td>412040.0</td>\n",
              "      <td>728202.0</td>\n",
              "      <td>7043.0</td>\n",
              "      <td>984793.0</td>\n",
              "      <td>7043.0</td>\n",
              "      <td>984793.0</td>\n",
              "      <td>2697788.0</td>\n",
              "    </tr>\n",
              "  </tbody>\n",
              "</table>\n",
              "</div>"
            ],
            "text/plain": [
              "              City  housing_units  ...  ind_elec_mwh  total_elec_mwh\n",
              "0      Los Angeles      1355074.0  ...    12023369.0      33090629.0\n",
              "104      San Diego       490141.0  ...     2311372.0       6993233.0\n",
              "349       San Jose       317315.0  ...     1517782.0       4886543.0\n",
              "278     Sacramento       179377.0  ...      923123.0       3207244.0\n",
              "277  San Francisco       356797.0  ...     4236898.0       9800425.0\n",
              "246         Fresno       163926.0  ...      956898.0       3162749.0\n",
              "214    Bakersfield       113710.0  ...      440844.0       1812920.0\n",
              "47      Long Beach       163850.0  ...      712853.0       2231432.0\n",
              "144      Riverside        92025.0  ...      399748.0       1535535.0\n",
              "316        Oakland       159072.0  ...      984793.0       2697788.0\n",
              "\n",
              "[10 rows x 9 columns]"
            ]
          },
          "metadata": {
            "tags": []
          },
          "execution_count": 12
        }
      ]
    },
    {
      "cell_type": "code",
      "metadata": {
        "id": "NzwHz9nA8Drw",
        "colab_type": "code",
        "colab": {}
      },
      "source": [
        "city_elec_complete['res_pct'] = city_elec_complete['res_elec_mwh']/city_elec_complete['total_elec_mwh']\n",
        "city_elec_complete['com_pct'] = city_elec_complete['com_elec_mwh']/city_elec_complete['total_elec_mwh']\n",
        "city_elec_complete['ind_pct'] = city_elec_complete['ind_elec_mwh']/city_elec_complete['total_elec_mwh']"
      ],
      "execution_count": 0,
      "outputs": []
    },
    {
      "cell_type": "code",
      "metadata": {
        "id": "LK8-LofqNpgs",
        "colab_type": "code",
        "outputId": "92e7ad1c-c1fa-47f9-8974-fe64d77f4654",
        "colab": {
          "base_uri": "https://localhost:8080/",
          "height": 354
        }
      },
      "source": [
        "#Correlations for raw data\n",
        "correlations_1 = city_elec_complete.corr() #Calculate the correlation of the above variables\n",
        "sns.heatmap(correlations_1, square = True) \n"
      ],
      "execution_count": 0,
      "outputs": [
        {
          "output_type": "execute_result",
          "data": {
            "text/plain": [
              "<matplotlib.axes._subplots.AxesSubplot at 0x7f455b776208>"
            ]
          },
          "metadata": {
            "tags": []
          },
          "execution_count": 14
        },
        {
          "output_type": "display_data",
          "data": {
            "image/png": "[encoded data removed]",
            "text/plain": [
              "<Figure size 432x288 with 2 Axes>"
            ]
          },
          "metadata": {
            "tags": [],
            "needs_background": "light"
          }
        }
      ]
    },
    {
      "cell_type": "code",
      "metadata": {
        "id": "OjIZpTtP4OJa",
        "colab_type": "code",
        "outputId": "74200562-84f3-42f4-ab71-f04b2ae3430b",
        "colab": {
          "base_uri": "https://localhost:8080/",
          "height": 287
        }
      },
      "source": [
        "correlations_2 = city_elec_complete[['total_pop','res_pct', 'com_pct', 'ind_pct']].corr()\n",
        "sns.heatmap(correlations_2, square = True) "
      ],
      "execution_count": 0,
      "outputs": [
        {
          "output_type": "execute_result",
          "data": {
            "text/plain": [
              "<matplotlib.axes._subplots.AxesSubplot at 0x7f455add57b8>"
            ]
          },
          "metadata": {
            "tags": []
          },
          "execution_count": 15
        },
        {
          "output_type": "display_data",
          "data": {
            "image/png": "[encoded data removed]",
            "text/plain": [
              "<Figure size 432x288 with 2 Axes>"
            ]
          },
          "metadata": {
            "tags": [],
            "needs_background": "light"
          }
        }
      ]
    },
    {
      "cell_type": "markdown",
      "metadata": {
        "id": "BgtE6xexNpgu",
        "colab_type": "text"
      },
      "source": [
        "K-Means Clustering Section - Similar Weather Cluster"
      ]
    },
    {
      "cell_type": "code",
      "metadata": {
        "id": "FOJ-whCMpmUY",
        "colab_type": "code",
        "outputId": "f8cf6312-2b61-4fe4-d1ea-9eb5011a1783",
        "colab": {
          "base_uri": "https://localhost:8080/",
          "height": 343
        }
      },
      "source": [
        "pip install tslearn"
      ],
      "execution_count": 0,
      "outputs": [
        {
          "output_type": "stream",
          "text": [
            "Collecting tslearn\n",
            "\u001b[?25l  Downloading https://files.pythonhosted.org/packages/91/2f/2ac7609864e49d56fabe6659cf8b9a0072b476dbf07825f5115bba949639/tslearn-0.3.1.tar.gz (548kB)\n",
            "\r\u001b[K     |▋                               | 10kB 4.3MB/s eta 0:00:01\r\u001b[K     |█▏                              | 20kB 1.4MB/s eta 0:00:01\r\u001b[K     |█▉                              | 30kB 1.9MB/s eta 0:00:01\r\u001b[K     |██▍                             | 40kB 1.5MB/s eta 0:00:01\r\u001b[K     |███                             | 51kB 1.8MB/s eta 0:00:01\r\u001b[K     |███▋                            | 61kB 2.1MB/s eta 0:00:01\r\u001b[K     |████▏                           | 71kB 2.3MB/s eta 0:00:01\r\u001b[K     |████▉                           | 81kB 2.5MB/s eta 0:00:01\r\u001b[K     |█████▍                          | 92kB 2.7MB/s eta 0:00:01\r\u001b[K     |██████                          | 102kB 2.6MB/s eta 0:00:01\r\u001b[K     |██████▋                         | 112kB 2.6MB/s eta 0:00:01\r\u001b[K     |███████▏                        | 122kB 2.6MB/s eta 0:00:01\r\u001b[K     |███████▊                        | 133kB 2.6MB/s eta 0:00:01\r\u001b[K     |████████▍                       | 143kB 2.6MB/s eta 0:00:01\r\u001b[K     |█████████                       | 153kB 2.6MB/s eta 0:00:01\r\u001b[K     |█████████▋                      | 163kB 2.6MB/s eta 0:00:01\r\u001b[K     |██████████▏                     | 174kB 2.6MB/s eta 0:00:01\r\u001b[K     |██████████▊                     | 184kB 2.6MB/s eta 0:00:01\r\u001b[K     |███████████▍                    | 194kB 2.6MB/s eta 0:00:01\r\u001b[K     |████████████                    | 204kB 2.6MB/s eta 0:00:01\r\u001b[K     |████████████▌                   | 215kB 2.6MB/s eta 0:00:01\r\u001b[K     |█████████████▏                  | 225kB 2.6MB/s eta 0:00:01\r\u001b[K     |█████████████▊                  | 235kB 2.6MB/s eta 0:00:01\r\u001b[K     |██████████████▍                 | 245kB 2.6MB/s eta 0:00:01\r\u001b[K     |███████████████                 | 256kB 2.6MB/s eta 0:00:01\r\u001b[K     |███████████████▌                | 266kB 2.6MB/s eta 0:00:01\r\u001b[K     |████████████████▏               | 276kB 2.6MB/s eta 0:00:01\r\u001b[K     |████████████████▊               | 286kB 2.6MB/s eta 0:00:01\r\u001b[K     |█████████████████▎              | 296kB 2.6MB/s eta 0:00:01\r\u001b[K     |██████████████████              | 307kB 2.6MB/s eta 0:00:01\r\u001b[K     |██████████████████▌             | 317kB 2.6MB/s eta 0:00:01\r\u001b[K     |███████████████████▏            | 327kB 2.6MB/s eta 0:00:01\r\u001b[K     |███████████████████▊            | 337kB 2.6MB/s eta 0:00:01\r\u001b[K     |████████████████████▎           | 348kB 2.6MB/s eta 0:00:01\r\u001b[K     |█████████████████████           | 358kB 2.6MB/s eta 0:00:01\r\u001b[K     |█████████████████████▌          | 368kB 2.6MB/s eta 0:00:01\r\u001b[K     |██████████████████████          | 378kB 2.6MB/s eta 0:00:01\r\u001b[K     |██████████████████████▊         | 389kB 2.6MB/s eta 0:00:01\r\u001b[K     |███████████████████████▎        | 399kB 2.6MB/s eta 0:00:01\r\u001b[K     |████████████████████████        | 409kB 2.6MB/s eta 0:00:01\r\u001b[K     |████████████████████████▌       | 419kB 2.6MB/s eta 0:00:01\r\u001b[K     |█████████████████████████       | 430kB 2.6MB/s eta 0:00:01\r\u001b[K     |█████████████████████████▊      | 440kB 2.6MB/s eta 0:00:01\r\u001b[K     |██████████████████████████▎     | 450kB 2.6MB/s eta 0:00:01\r\u001b[K     |██████████████████████████▉     | 460kB 2.6MB/s eta 0:00:01\r\u001b[K     |███████████████████████████▌    | 471kB 2.6MB/s eta 0:00:01\r\u001b[K     |████████████████████████████    | 481kB 2.6MB/s eta 0:00:01\r\u001b[K     |████████████████████████████▊   | 491kB 2.6MB/s eta 0:00:01\r\u001b[K     |█████████████████████████████▎  | 501kB 2.6MB/s eta 0:00:01\r\u001b[K     |█████████████████████████████▉  | 512kB 2.6MB/s eta 0:00:01\r\u001b[K     |██████████████████████████████▌ | 522kB 2.6MB/s eta 0:00:01\r\u001b[K     |███████████████████████████████ | 532kB 2.6MB/s eta 0:00:01\r\u001b[K     |███████████████████████████████▋| 542kB 2.6MB/s eta 0:00:01\r\u001b[K     |████████████████████████████████| 552kB 2.6MB/s \n",
            "\u001b[?25hRequirement already satisfied: numpy in /usr/local/lib/python3.6/dist-packages (from tslearn) (1.18.2)\n",
            "Requirement already satisfied: scipy in /usr/local/lib/python3.6/dist-packages (from tslearn) (1.4.1)\n",
            "Requirement already satisfied: scikit-learn in /usr/local/lib/python3.6/dist-packages (from tslearn) (0.22.2.post1)\n",
            "Requirement already satisfied: Cython in /usr/local/lib/python3.6/dist-packages (from tslearn) (0.29.16)\n",
            "Requirement already satisfied: numba in /usr/local/lib/python3.6/dist-packages (from tslearn) (0.48.0)\n",
            "Requirement already satisfied: joblib in /usr/local/lib/python3.6/dist-packages (from tslearn) (0.14.1)\n",
            "Requirement already satisfied: llvmlite<0.32.0,>=0.31.0dev0 in /usr/local/lib/python3.6/dist-packages (from numba->tslearn) (0.31.0)\n",
            "Requirement already satisfied: setuptools in /usr/local/lib/python3.6/dist-packages (from numba->tslearn) (46.1.3)\n",
            "Building wheels for collected packages: tslearn\n",
            "  Building wheel for tslearn (setup.py) ... \u001b[?25l\u001b[?25hdone\n",
            "  Created wheel for tslearn: filename=tslearn-0.3.1-cp36-cp36m-linux_x86_64.whl size=681083 sha256=fbf2c444c2b1768bf790920372298e559bd9c170ec6002f800f4417daa62ecec\n",
            "  Stored in directory: /root/.cache/pip/wheels/57/77/ee/922525fa91c7363885969abb29defc87cfecd8488cd02c4bda\n",
            "Successfully built tslearn\n",
            "Installing collected packages: tslearn\n",
            "Successfully installed tslearn-0.3.1\n"
          ],
          "name": "stdout"
        }
      ]
    },
    {
      "cell_type": "code",
      "metadata": {
        "id": "HsXKE5HjNpgv",
        "colab_type": "code",
        "outputId": "3a13a1d4-5b81-4f37-ba99-b3e4fd579980",
        "colab": {
          "base_uri": "https://localhost:8080/",
          "height": 71
        }
      },
      "source": [
        "from tslearn.generators import random_walks\n",
        "from tslearn.clustering import TimeSeriesKMeans\n",
        "import warnings\n",
        "warnings.filterwarnings('ignore')"
      ],
      "execution_count": 0,
      "outputs": [
        {
          "output_type": "stream",
          "text": [
            "/usr/local/lib/python3.6/dist-packages/sklearn/utils/deprecation.py:144: FutureWarning: The sklearn.cluster.k_means_ module is  deprecated in version 0.22 and will be removed in version 0.24. The corresponding classes / functions should instead be imported from sklearn.cluster. Anything that cannot be imported from sklearn.cluster is now part of the private API.\n",
            "  warnings.warn(message, FutureWarning)\n"
          ],
          "name": "stderr"
        }
      ]
    },
    {
      "cell_type": "markdown",
      "metadata": {
        "id": "1L3-Hs8KNpgx",
        "colab_type": "text"
      },
      "source": [
        "Show Optimal K using elbow method for similar weather"
      ]
    },
    {
      "cell_type": "code",
      "metadata": {
        "id": "Hqs2ImTwNpgy",
        "colab_type": "code",
        "outputId": "f13fa13c-c41f-4cfb-94d2-28ec0791cdb0",
        "colab": {
          "base_uri": "https://localhost:8080/",
          "height": 281
        }
      },
      "source": [
        "#Scale the data as the data is in different units\n",
        "city_wx_cluster = city_wx_data[['City', 'Temperature',\n",
        "       'Relative Humidity', 'Precipitable Water', 'Wind Direction',\n",
        "       'Cloud Type', 'Dew Point', 'Wind Speed']]\n",
        "from sklearn.preprocessing import StandardScaler\n",
        "scaler = StandardScaler()\n",
        "\n",
        "req_cols = ['Temperature',\n",
        "       'Relative Humidity', 'Precipitable Water', 'Wind Direction',\n",
        "       'Cloud Type', 'Dew Point', 'Wind Speed']\n",
        "\n",
        "city_wx_cluster_scaled = scaler.fit_transform(city_wx_cluster[req_cols])\n",
        "city_wx_cluster_scaled_df = pd.DataFrame(city_wx_cluster_scaled)\n",
        "\n",
        "#Add back the city column\n",
        "city_wx_cluster_scaled_df['City'] = city_wx_cluster['City']\n",
        "\n",
        "list_of_cities = list(set(city_wx_cluster.City.values))\n",
        "np.array(city_wx_cluster_scaled_df[city_wx_cluster_scaled_df.City == list_of_cities[0]].iloc[:,0:7])\n",
        "wx_cluster = []\n",
        "\n",
        "for i in range(0,len(list_of_cities)):\n",
        "    wx_cluster.append(np.array(city_wx_cluster_scaled_df[city_wx_cluster_scaled_df.City == list_of_cities[i]].iloc[:,0:7]))\n",
        "\n",
        "\n",
        "wcss = []\n",
        "for i in range(1,11):\n",
        "    ts_kmeans =  TimeSeriesKMeans(n_clusters = i, metric=\"euclidean\", max_iter = 2, max_iter_barycenter=2, random_state = 5).fit(wx_cluster)\n",
        "    wcss.append(ts_kmeans.inertia_)\n",
        "plt.plot(range(1,11),wcss)\n",
        "plt.title('Optimal K/Elbow method visualization')\n",
        "plt.ylabel('WCSS')\n",
        "plt.show()"
      ],
      "execution_count": 0,
      "outputs": [
        {
          "output_type": "display_data",
          "data": {
            "image/png": "[encoded data removed]",
            "text/plain": [
              "<Figure size 432x288 with 1 Axes>"
            ]
          },
          "metadata": {
            "tags": [],
            "needs_background": "light"
          }
        }
      ]
    },
    {
      "cell_type": "code",
      "metadata": {
        "id": "CCsGb7roNpg0",
        "colab_type": "code",
        "colab": {}
      },
      "source": [
        "from sklearn.metrics import pairwise_distances_argmin_min\n",
        "city_wx_cluster = pd.DataFrame(list_of_cities)\n",
        "ts_kmeans_optimal = TimeSeriesKMeans(n_clusters = 5, metric=\"euclidean\", max_iter = 3, max_iter_barycenter=3, random_state = 5).fit(wx_cluster)\n",
        "wx_cluster_label = list(ts_kmeans_optimal.labels_)\n",
        "city_wx_cluster['Weather Cluster'] = wx_cluster_label\n",
        "city_wx_cluster.columns = ['City', 'Weather Cluster']"
      ],
      "execution_count": 0,
      "outputs": []
    },
    {
      "cell_type": "code",
      "metadata": {
        "id": "9aQlPtHiQgYn",
        "colab_type": "code",
        "colab": {}
      },
      "source": [
        ""
      ],
      "execution_count": 0,
      "outputs": []
    },
    {
      "cell_type": "markdown",
      "metadata": {
        "id": "IbsbQ57ytQFZ",
        "colab_type": "text"
      },
      "source": [
        "# Similar Weather Cluster "
      ]
    },
    {
      "cell_type": "code",
      "metadata": {
        "id": "T0LnOQYwNpg3",
        "colab_type": "code",
        "outputId": "bcf1076c-e184-4c6f-f01c-2629b53767f2",
        "colab": {
          "base_uri": "https://localhost:8080/",
          "height": 419
        }
      },
      "source": [
        "city_wx_cluster"
      ],
      "execution_count": 0,
      "outputs": [
        {
          "output_type": "execute_result",
          "data": {
            "text/html": [
              "<div>\n",
              "<style scoped>\n",
              "    .dataframe tbody tr th:only-of-type {\n",
              "        vertical-align: middle;\n",
              "    }\n",
              "\n",
              "    .dataframe tbody tr th {\n",
              "        vertical-align: top;\n",
              "    }\n",
              "\n",
              "    .dataframe thead th {\n",
              "        text-align: right;\n",
              "    }\n",
              "</style>\n",
              "<table border=\"1\" class=\"dataframe\">\n",
              "  <thead>\n",
              "    <tr style=\"text-align: right;\">\n",
              "      <th></th>\n",
              "      <th>City</th>\n",
              "      <th>Weather Cluster</th>\n",
              "    </tr>\n",
              "  </thead>\n",
              "  <tbody>\n",
              "    <tr>\n",
              "      <th>0</th>\n",
              "      <td>Alhambra</td>\n",
              "      <td>0</td>\n",
              "    </tr>\n",
              "    <tr>\n",
              "      <th>1</th>\n",
              "      <td>Hollister</td>\n",
              "      <td>1</td>\n",
              "    </tr>\n",
              "    <tr>\n",
              "      <th>2</th>\n",
              "      <td>Livermore</td>\n",
              "      <td>1</td>\n",
              "    </tr>\n",
              "    <tr>\n",
              "      <th>3</th>\n",
              "      <td>Yorba Linda</td>\n",
              "      <td>0</td>\n",
              "    </tr>\n",
              "    <tr>\n",
              "      <th>4</th>\n",
              "      <td>Long Beach</td>\n",
              "      <td>0</td>\n",
              "    </tr>\n",
              "    <tr>\n",
              "      <th>...</th>\n",
              "      <td>...</td>\n",
              "      <td>...</td>\n",
              "    </tr>\n",
              "    <tr>\n",
              "      <th>446</th>\n",
              "      <td>Apple Valley</td>\n",
              "      <td>4</td>\n",
              "    </tr>\n",
              "    <tr>\n",
              "      <th>447</th>\n",
              "      <td>Paradise</td>\n",
              "      <td>3</td>\n",
              "    </tr>\n",
              "    <tr>\n",
              "      <th>448</th>\n",
              "      <td>Folsom</td>\n",
              "      <td>3</td>\n",
              "    </tr>\n",
              "    <tr>\n",
              "      <th>449</th>\n",
              "      <td>Buellton</td>\n",
              "      <td>0</td>\n",
              "    </tr>\n",
              "    <tr>\n",
              "      <th>450</th>\n",
              "      <td>San Carlos</td>\n",
              "      <td>1</td>\n",
              "    </tr>\n",
              "  </tbody>\n",
              "</table>\n",
              "<p>451 rows × 2 columns</p>\n",
              "</div>"
            ],
            "text/plain": [
              "             City  Weather Cluster\n",
              "0        Alhambra                0\n",
              "1       Hollister                1\n",
              "2       Livermore                1\n",
              "3     Yorba Linda                0\n",
              "4      Long Beach                0\n",
              "..            ...              ...\n",
              "446  Apple Valley                4\n",
              "447      Paradise                3\n",
              "448        Folsom                3\n",
              "449      Buellton                0\n",
              "450    San Carlos                1\n",
              "\n",
              "[451 rows x 2 columns]"
            ]
          },
          "metadata": {
            "tags": []
          },
          "execution_count": 21
        }
      ]
    },
    {
      "cell_type": "code",
      "metadata": {
        "id": "bL8_M8dGNpg5",
        "colab_type": "code",
        "colab": {}
      },
      "source": [
        "wx_cluster_0 = city_wx_cluster[city_wx_cluster['Weather Cluster'] == 0].merge(city_elec_complete,on='City')\n",
        "wx_cluster_1 = city_wx_cluster[city_wx_cluster['Weather Cluster'] == 1].merge(city_elec_complete,on='City')\n",
        "wx_cluster_2 = city_wx_cluster[city_wx_cluster['Weather Cluster'] == 2].merge(city_elec_complete,on='City')\n",
        "wx_cluster_3 = city_wx_cluster[city_wx_cluster['Weather Cluster'] == 3].merge(city_elec_complete,on='City')\n",
        "wx_cluster_4 = city_wx_cluster[city_wx_cluster['Weather Cluster'] == 4].merge(city_elec_complete,on='City')"
      ],
      "execution_count": 0,
      "outputs": []
    },
    {
      "cell_type": "code",
      "metadata": {
        "id": "GfaFRC2Kujqx",
        "colab_type": "code",
        "outputId": "d39f16b8-c5f8-44e2-dd46-908c6fee2869",
        "colab": {
          "base_uri": "https://localhost:8080/",
          "height": 575
        }
      },
      "source": [
        "wx_cluster_0"
      ],
      "execution_count": 0,
      "outputs": [
        {
          "output_type": "execute_result",
          "data": {
            "text/html": [
              "<div>\n",
              "<style scoped>\n",
              "    .dataframe tbody tr th:only-of-type {\n",
              "        vertical-align: middle;\n",
              "    }\n",
              "\n",
              "    .dataframe tbody tr th {\n",
              "        vertical-align: top;\n",
              "    }\n",
              "\n",
              "    .dataframe thead th {\n",
              "        text-align: right;\n",
              "    }\n",
              "</style>\n",
              "<table border=\"1\" class=\"dataframe\">\n",
              "  <thead>\n",
              "    <tr style=\"text-align: right;\">\n",
              "      <th></th>\n",
              "      <th>City</th>\n",
              "      <th>Weather Cluster</th>\n",
              "      <th>housing_units</th>\n",
              "      <th>total_pop</th>\n",
              "      <th>res_elec_mwh</th>\n",
              "      <th>com_units</th>\n",
              "      <th>com_elec_mwh</th>\n",
              "      <th>ind_units</th>\n",
              "      <th>ind_elec_mwh</th>\n",
              "      <th>total_elec_mwh</th>\n",
              "      <th>res_pct</th>\n",
              "      <th>com_pct</th>\n",
              "      <th>ind_pct</th>\n",
              "    </tr>\n",
              "  </thead>\n",
              "  <tbody>\n",
              "    <tr>\n",
              "      <th>0</th>\n",
              "      <td>Alhambra</td>\n",
              "      <td>0</td>\n",
              "      <td>29137.0</td>\n",
              "      <td>84866.0</td>\n",
              "      <td>133938.0</td>\n",
              "      <td>1169.0</td>\n",
              "      <td>155657.0</td>\n",
              "      <td>1169.0</td>\n",
              "      <td>155657.0</td>\n",
              "      <td>445252.0</td>\n",
              "      <td>0.300814</td>\n",
              "      <td>0.349593</td>\n",
              "      <td>0.349593</td>\n",
              "    </tr>\n",
              "    <tr>\n",
              "      <th>1</th>\n",
              "      <td>Yorba Linda</td>\n",
              "      <td>0</td>\n",
              "      <td>21902.0</td>\n",
              "      <td>67362.0</td>\n",
              "      <td>210196.0</td>\n",
              "      <td>698.0</td>\n",
              "      <td>92004.0</td>\n",
              "      <td>698.0</td>\n",
              "      <td>92004.0</td>\n",
              "      <td>394204.0</td>\n",
              "      <td>0.533216</td>\n",
              "      <td>0.233392</td>\n",
              "      <td>0.233392</td>\n",
              "    </tr>\n",
              "    <tr>\n",
              "      <th>2</th>\n",
              "      <td>Long Beach</td>\n",
              "      <td>0</td>\n",
              "      <td>163850.0</td>\n",
              "      <td>469793.0</td>\n",
              "      <td>805726.0</td>\n",
              "      <td>5468.0</td>\n",
              "      <td>712853.0</td>\n",
              "      <td>5468.0</td>\n",
              "      <td>712853.0</td>\n",
              "      <td>2231432.0</td>\n",
              "      <td>0.361080</td>\n",
              "      <td>0.319460</td>\n",
              "      <td>0.319460</td>\n",
              "    </tr>\n",
              "    <tr>\n",
              "      <th>3</th>\n",
              "      <td>Rancho Santa Margarita</td>\n",
              "      <td>0</td>\n",
              "      <td>16960.0</td>\n",
              "      <td>49038.0</td>\n",
              "      <td>147145.0</td>\n",
              "      <td>318.0</td>\n",
              "      <td>43143.0</td>\n",
              "      <td>318.0</td>\n",
              "      <td>43143.0</td>\n",
              "      <td>233431.0</td>\n",
              "      <td>0.630358</td>\n",
              "      <td>0.184821</td>\n",
              "      <td>0.184821</td>\n",
              "    </tr>\n",
              "    <tr>\n",
              "      <th>4</th>\n",
              "      <td>La Palma</td>\n",
              "      <td>0</td>\n",
              "      <td>5016.0</td>\n",
              "      <td>15834.0</td>\n",
              "      <td>36433.0</td>\n",
              "      <td>143.0</td>\n",
              "      <td>28191.0</td>\n",
              "      <td>143.0</td>\n",
              "      <td>28191.0</td>\n",
              "      <td>92815.0</td>\n",
              "      <td>0.392534</td>\n",
              "      <td>0.303733</td>\n",
              "      <td>0.303733</td>\n",
              "    </tr>\n",
              "    <tr>\n",
              "      <th>...</th>\n",
              "      <td>...</td>\n",
              "      <td>...</td>\n",
              "      <td>...</td>\n",
              "      <td>...</td>\n",
              "      <td>...</td>\n",
              "      <td>...</td>\n",
              "      <td>...</td>\n",
              "      <td>...</td>\n",
              "      <td>...</td>\n",
              "      <td>...</td>\n",
              "      <td>...</td>\n",
              "      <td>...</td>\n",
              "      <td>...</td>\n",
              "    </tr>\n",
              "    <tr>\n",
              "      <th>135</th>\n",
              "      <td>Huntington Park</td>\n",
              "      <td>0</td>\n",
              "      <td>14758.0</td>\n",
              "      <td>58921.0</td>\n",
              "      <td>51866.0</td>\n",
              "      <td>620.0</td>\n",
              "      <td>82858.0</td>\n",
              "      <td>620.0</td>\n",
              "      <td>82858.0</td>\n",
              "      <td>217582.0</td>\n",
              "      <td>0.238374</td>\n",
              "      <td>0.380813</td>\n",
              "      <td>0.380813</td>\n",
              "    </tr>\n",
              "    <tr>\n",
              "      <th>136</th>\n",
              "      <td>Mission Viejo</td>\n",
              "      <td>0</td>\n",
              "      <td>33847.0</td>\n",
              "      <td>96178.0</td>\n",
              "      <td>271799.0</td>\n",
              "      <td>1137.0</td>\n",
              "      <td>169267.0</td>\n",
              "      <td>1137.0</td>\n",
              "      <td>169267.0</td>\n",
              "      <td>610333.0</td>\n",
              "      <td>0.445329</td>\n",
              "      <td>0.277335</td>\n",
              "      <td>0.277335</td>\n",
              "    </tr>\n",
              "    <tr>\n",
              "      <th>137</th>\n",
              "      <td>Brea</td>\n",
              "      <td>0</td>\n",
              "      <td>14424.0</td>\n",
              "      <td>41351.0</td>\n",
              "      <td>108720.0</td>\n",
              "      <td>550.0</td>\n",
              "      <td>105646.0</td>\n",
              "      <td>550.0</td>\n",
              "      <td>105646.0</td>\n",
              "      <td>320012.0</td>\n",
              "      <td>0.339737</td>\n",
              "      <td>0.330131</td>\n",
              "      <td>0.330131</td>\n",
              "    </tr>\n",
              "    <tr>\n",
              "      <th>138</th>\n",
              "      <td>Simi Valley</td>\n",
              "      <td>0</td>\n",
              "      <td>42242.0</td>\n",
              "      <td>126126.0</td>\n",
              "      <td>340856.0</td>\n",
              "      <td>1272.0</td>\n",
              "      <td>159968.0</td>\n",
              "      <td>1272.0</td>\n",
              "      <td>159968.0</td>\n",
              "      <td>660792.0</td>\n",
              "      <td>0.515829</td>\n",
              "      <td>0.242085</td>\n",
              "      <td>0.242085</td>\n",
              "    </tr>\n",
              "    <tr>\n",
              "      <th>139</th>\n",
              "      <td>Buellton</td>\n",
              "      <td>0</td>\n",
              "      <td>1614.0</td>\n",
              "      <td>5021.0</td>\n",
              "      <td>9533.0</td>\n",
              "      <td>152.0</td>\n",
              "      <td>26191.0</td>\n",
              "      <td>152.0</td>\n",
              "      <td>26191.0</td>\n",
              "      <td>61915.0</td>\n",
              "      <td>0.153969</td>\n",
              "      <td>0.423015</td>\n",
              "      <td>0.423015</td>\n",
              "    </tr>\n",
              "  </tbody>\n",
              "</table>\n",
              "<p>140 rows × 13 columns</p>\n",
              "</div>"
            ],
            "text/plain": [
              "                       City  Weather Cluster  ...   com_pct   ind_pct\n",
              "0                  Alhambra                0  ...  0.349593  0.349593\n",
              "1               Yorba Linda                0  ...  0.233392  0.233392\n",
              "2                Long Beach                0  ...  0.319460  0.319460\n",
              "3    Rancho Santa Margarita                0  ...  0.184821  0.184821\n",
              "4                  La Palma                0  ...  0.303733  0.303733\n",
              "..                      ...              ...  ...       ...       ...\n",
              "135         Huntington Park                0  ...  0.380813  0.380813\n",
              "136           Mission Viejo                0  ...  0.277335  0.277335\n",
              "137                    Brea                0  ...  0.330131  0.330131\n",
              "138             Simi Valley                0  ...  0.242085  0.242085\n",
              "139                Buellton                0  ...  0.423015  0.423015\n",
              "\n",
              "[140 rows x 13 columns]"
            ]
          },
          "metadata": {
            "tags": []
          },
          "execution_count": 24
        }
      ]
    },
    {
      "cell_type": "markdown",
      "metadata": {
        "id": "So9-b9655Mpq",
        "colab_type": "text"
      },
      "source": [
        "# Plot optimal K for each Weather Cluster"
      ]
    },
    {
      "cell_type": "code",
      "metadata": {
        "id": "Zow_XhNsNpg-",
        "colab_type": "code",
        "colab": {}
      },
      "source": [
        "def plot_elbow_method(cluster_df):\n",
        "    wcss = []\n",
        "    for i in range(1,5):\n",
        "        kmeans = KMeans(n_clusters = i, init = 'k-means++',max_iter = 300, n_init = 10, random_state = 5)\n",
        "        kmeans.fit(cluster_df)\n",
        "        wcss.append(kmeans.inertia_)\n",
        "        \n",
        "    plt.plot(range(1,5),wcss)\n",
        "    plt.title('Optimal K/Elbow method visualization')\n",
        "    plt.ylabel('WCSS')\n",
        "    plt.show()\n",
        "    \n",
        "req_columns = ['total_pop','res_pct', 'com_pct', 'ind_pct']\n",
        "\n",
        "def get_kmeans_labels(cluster_df):\n",
        "    kmeans = KMeans(n_clusters = 2, init = 'k-means++',max_iter = 300, n_init = 10, random_state = 5).fit(cluster_df)\n",
        "    labels = list(kmeans.labels_)\n",
        "    return labels\n",
        "\n",
        "def get_closest_to_centroid(cluster_df):\n",
        "    from sklearn.metrics import pairwise_distances_argmin_min\n",
        "    kmeans = KMeans(n_clusters = 2, init = 'k-means++',max_iter = 300, n_init = 10, random_state = 5).fit(cluster_df)\n",
        "    closest, _ = pairwise_distances_argmin_min(kmeans.cluster_centers_, cluster_df)\n",
        "    return closest\n"
      ],
      "execution_count": 0,
      "outputs": []
    },
    {
      "cell_type": "code",
      "metadata": {
        "id": "lH2gaB1dNpg8",
        "colab_type": "code",
        "outputId": "ffc6ec4f-75db-4c3a-c05d-e55ece01939d",
        "colab": {
          "base_uri": "https://localhost:8080/",
          "height": 1000
        }
      },
      "source": [
        "cluster_0_sub = wx_cluster_0[req_columns]\n",
        "cluster_1_sub = wx_cluster_1[req_columns]\n",
        "cluster_2_sub = wx_cluster_2[req_columns]\n",
        "cluster_3_sub = wx_cluster_3[req_columns]\n",
        "cluster_4_sub = wx_cluster_4[req_columns]\n",
        "\n",
        "from sklearn.preprocessing import StandardScaler\n",
        "scaler = StandardScaler()\n",
        "\n",
        "cluster_0_sub_scaled = scaler.fit_transform(cluster_0_sub)\n",
        "cluster_1_sub_scaled = scaler.fit_transform(cluster_1_sub)\n",
        "cluster_2_sub_scaled = scaler.fit_transform(cluster_2_sub)\n",
        "cluster_3_sub_scaled = scaler.fit_transform(cluster_3_sub)\n",
        "cluster_4_sub_scaled = scaler.fit_transform(cluster_4_sub)\n",
        "\n",
        "plot_elbow_method(cluster_0_sub_scaled)\n",
        "plot_elbow_method(cluster_1_sub_scaled)\n",
        "plot_elbow_method(cluster_2_sub_scaled)\n",
        "plot_elbow_method(cluster_3_sub_scaled)\n",
        "plot_elbow_method(cluster_4_sub_scaled)\n",
        "\n",
        "wx_cluster_0['Electric Sub-Cluster'] = get_kmeans_labels(wx_cluster_0[req_columns])\n",
        "wx_cluster_1['Electric Sub-Cluster'] = get_kmeans_labels(wx_cluster_1[req_columns])\n",
        "wx_cluster_2['Electric Sub-Cluster'] = get_kmeans_labels(wx_cluster_2[req_columns])\n",
        "wx_cluster_3['Electric Sub-Cluster'] = get_kmeans_labels(wx_cluster_3[req_columns])\n",
        "wx_cluster_4['Electric Sub-Cluster'] = get_kmeans_labels(wx_cluster_4[req_columns])\n",
        "\n",
        "ex_wx_cluster_0 = wx_cluster_0[['City', 'Weather Cluster', 'Electric Sub-Cluster']]\n",
        "ex_wx_cluster_1 = wx_cluster_1[['City', 'Weather Cluster', 'Electric Sub-Cluster']]\n",
        "ex_wx_cluster_2 = wx_cluster_2[['City', 'Weather Cluster', 'Electric Sub-Cluster']]\n",
        "ex_wx_cluster_3 = wx_cluster_3[['City', 'Weather Cluster', 'Electric Sub-Cluster']]\n",
        "ex_wx_cluster_4 = wx_cluster_4[['City', 'Weather Cluster', 'Electric Sub-Cluster']]\n",
        "\n",
        "all_ex_wx_cluster = ex_wx_cluster_0.append([ex_wx_cluster_1, ex_wx_cluster_2, ex_wx_cluster_3,ex_wx_cluster_4])"
      ],
      "execution_count": 0,
      "outputs": [
        {
          "output_type": "display_data",
          "data": {
            "image/png": "[encoded data removed]",
            "text/plain": [
              "<Figure size 432x288 with 1 Axes>"
            ]
          },
          "metadata": {
            "tags": [],
            "needs_background": "light"
          }
        },
        {
          "output_type": "display_data",
          "data": {
            "image/png": "[encoded data removed]",
            "text/plain": [
              "<Figure size 432x288 with 1 Axes>"
            ]
          },
          "metadata": {
            "tags": [],
            "needs_background": "light"
          }
        },
        {
          "output_type": "display_data",
          "data": {
            "image/png": "[encoded data removed]",
            "text/plain": [
              "<Figure size 432x288 with 1 Axes>"
            ]
          },
          "metadata": {
            "tags": [],
            "needs_background": "light"
          }
        },
        {
          "output_type": "display_data",
          "data": {
            "image/png": "[encoded data removed]",
            "text/plain": [
              "<Figure size 432x288 with 1 Axes>"
            ]
          },
          "metadata": {
            "tags": [],
            "needs_background": "light"
          }
        },
        {
          "output_type": "display_data",
          "data": {
            "image/png": "[encoded data removed]",
            "text/plain": [
              "<Figure size 432x288 with 1 Axes>"
            ]
          },
          "metadata": {
            "tags": [],
            "needs_background": "light"
          }
        }
      ]
    },
    {
      "cell_type": "markdown",
      "metadata": {
        "id": "WhwNZwNb5axk",
        "colab_type": "text"
      },
      "source": [
        "# View Final Cluster+Sub-Cluster Allocation"
      ]
    },
    {
      "cell_type": "code",
      "metadata": {
        "id": "695GQl6xuvEj",
        "colab_type": "code",
        "outputId": "1178bfe2-812f-4fb9-8fdb-04d6f9f6e664",
        "colab": {
          "base_uri": "https://localhost:8080/",
          "height": 419
        }
      },
      "source": [
        "all_ex_wx_cluster "
      ],
      "execution_count": 0,
      "outputs": [
        {
          "output_type": "execute_result",
          "data": {
            "text/html": [
              "<div>\n",
              "<style scoped>\n",
              "    .dataframe tbody tr th:only-of-type {\n",
              "        vertical-align: middle;\n",
              "    }\n",
              "\n",
              "    .dataframe tbody tr th {\n",
              "        vertical-align: top;\n",
              "    }\n",
              "\n",
              "    .dataframe thead th {\n",
              "        text-align: right;\n",
              "    }\n",
              "</style>\n",
              "<table border=\"1\" class=\"dataframe\">\n",
              "  <thead>\n",
              "    <tr style=\"text-align: right;\">\n",
              "      <th></th>\n",
              "      <th>City</th>\n",
              "      <th>Weather Cluster</th>\n",
              "      <th>Electric Sub-Cluster</th>\n",
              "    </tr>\n",
              "  </thead>\n",
              "  <tbody>\n",
              "    <tr>\n",
              "      <th>0</th>\n",
              "      <td>Alhambra</td>\n",
              "      <td>0</td>\n",
              "      <td>0</td>\n",
              "    </tr>\n",
              "    <tr>\n",
              "      <th>1</th>\n",
              "      <td>Yorba Linda</td>\n",
              "      <td>0</td>\n",
              "      <td>0</td>\n",
              "    </tr>\n",
              "    <tr>\n",
              "      <th>2</th>\n",
              "      <td>Long Beach</td>\n",
              "      <td>0</td>\n",
              "      <td>0</td>\n",
              "    </tr>\n",
              "    <tr>\n",
              "      <th>3</th>\n",
              "      <td>Rancho Santa Margarita</td>\n",
              "      <td>0</td>\n",
              "      <td>0</td>\n",
              "    </tr>\n",
              "    <tr>\n",
              "      <th>4</th>\n",
              "      <td>La Palma</td>\n",
              "      <td>0</td>\n",
              "      <td>0</td>\n",
              "    </tr>\n",
              "    <tr>\n",
              "      <th>...</th>\n",
              "      <td>...</td>\n",
              "      <td>...</td>\n",
              "      <td>...</td>\n",
              "    </tr>\n",
              "    <tr>\n",
              "      <th>56</th>\n",
              "      <td>Rancho Mirage</td>\n",
              "      <td>4</td>\n",
              "      <td>1</td>\n",
              "    </tr>\n",
              "    <tr>\n",
              "      <th>57</th>\n",
              "      <td>Rialto</td>\n",
              "      <td>4</td>\n",
              "      <td>1</td>\n",
              "    </tr>\n",
              "    <tr>\n",
              "      <th>58</th>\n",
              "      <td>Fontana</td>\n",
              "      <td>4</td>\n",
              "      <td>0</td>\n",
              "    </tr>\n",
              "    <tr>\n",
              "      <th>59</th>\n",
              "      <td>Pomona</td>\n",
              "      <td>4</td>\n",
              "      <td>0</td>\n",
              "    </tr>\n",
              "    <tr>\n",
              "      <th>60</th>\n",
              "      <td>Apple Valley</td>\n",
              "      <td>4</td>\n",
              "      <td>1</td>\n",
              "    </tr>\n",
              "  </tbody>\n",
              "</table>\n",
              "<p>451 rows × 3 columns</p>\n",
              "</div>"
            ],
            "text/plain": [
              "                      City  Weather Cluster  Electric Sub-Cluster\n",
              "0                 Alhambra                0                     0\n",
              "1              Yorba Linda                0                     0\n",
              "2               Long Beach                0                     0\n",
              "3   Rancho Santa Margarita                0                     0\n",
              "4                 La Palma                0                     0\n",
              "..                     ...              ...                   ...\n",
              "56           Rancho Mirage                4                     1\n",
              "57                  Rialto                4                     1\n",
              "58                 Fontana                4                     0\n",
              "59                  Pomona                4                     0\n",
              "60            Apple Valley                4                     1\n",
              "\n",
              "[451 rows x 3 columns]"
            ]
          },
          "metadata": {
            "tags": []
          },
          "execution_count": 27
        }
      ]
    },
    {
      "cell_type": "code",
      "metadata": {
        "id": "QEGCsLG4NphA",
        "colab_type": "code",
        "colab": {}
      },
      "source": [
        "#Plot needs work\n",
        "# X = wx_cluster_4[['res_elec_mwh', 'com_elec_mwh', 'ind_elec_mwh','Electric Sub-Cluster']]\n",
        "# plt.scatter(X[X['Electric Sub-Cluster'] == 0]['res_elec_mwh'], X[X['Electric Sub-Cluster'] == 0]['ind_elec_mwh'], s = 100, c = 'red', label = 'Cluster 0')\n",
        "# plt.scatter(X[X['Electric Sub-Cluster'] == 1]['res_elec_mwh'], X[X['Electric Sub-Cluster'] == 1]['ind_elec_mwh'], s = 100, c = 'blue', label = 'Cluster 1')\n",
        "# #plt.scatter(kmeans.cluster_centers_[:, 0], kmeans.cluster_centers_[:, 1], s = 300, c = 'yellow', label = 'Centroids')\n",
        "# plt.title('Sub-Cluster in Wx Cluster 4')\n",
        "# plt.xlabel('Residential Electric Load ')\n",
        "# plt.ylabel('Commercial Electric Load')\n",
        "# plt.legend()\n",
        "# plt.show()"
      ],
      "execution_count": 0,
      "outputs": []
    },
    {
      "cell_type": "markdown",
      "metadata": {
        "id": "bdhlOQ9c41dx",
        "colab_type": "text"
      },
      "source": [
        "# Weather Cluster Centroids and cities closest to the centroids"
      ]
    },
    {
      "cell_type": "code",
      "metadata": {
        "id": "3iCHzex-irdr",
        "colab_type": "code",
        "colab": {}
      },
      "source": [
        "# wx_centroid_0_ix = pairwise_distances_argmin_min(ts_kmeans_optimal.cluster_centers_[0], city_wx_cluster_scaled_df.iloc[:,0:7])\n",
        "# wx_centroid_1_ix = pairwise_distances_argmin_min(ts_kmeans_optimal.cluster_centers_[1], city_wx_cluster_scaled_df.iloc[:,0:7])\n",
        "# wx_centroid_2_ix = pairwise_distances_argmin_min(ts_kmeans_optimal.cluster_centers_[2], city_wx_cluster_scaled_df.iloc[:,0:7])\n",
        "# wx_centroid_3_ix = pairwise_distances_argmin_min(ts_kmeans_optimal.cluster_centers_[3], city_wx_cluster_scaled_df.iloc[:,0:7])\n",
        "# wx_centroid_4_ix = pairwise_distances_argmin_min(ts_kmeans_optimal.cluster_centers_[4], city_wx_cluster_scaled_df.iloc[:,0:7])\n",
        "# city_scaled_array = np.array(city_wx_cluster_scaled_df.iloc[:,0:7])\n",
        "# pairwise_distances_argmin_min(ts_kmeans_optimal.cluster_centers_[0], city_scaled_array))\n"
      ],
      "execution_count": 0,
      "outputs": []
    },
    {
      "cell_type": "markdown",
      "metadata": {
        "id": "4KPhoMMdwqio",
        "colab_type": "text"
      },
      "source": [
        "# Sub-Cluster Centroid and cities closest to the centroid"
      ]
    },
    {
      "cell_type": "code",
      "metadata": {
        "id": "-7kiG1emNphC",
        "colab_type": "code",
        "colab": {}
      },
      "source": [
        "wx_0_centroid_0 = get_closest_to_centroid(wx_cluster_0[req_columns])[0]\n",
        "wx_0_centroid_1 = get_closest_to_centroid(wx_cluster_0[req_columns])[1]\n",
        "wx_1_centroid_0 = get_closest_to_centroid(wx_cluster_1[req_columns])[0]\n",
        "wx_1_centroid_1 = get_closest_to_centroid(wx_cluster_1[req_columns])[1]\n",
        "wx_2_centroid_0 = get_closest_to_centroid(wx_cluster_2[req_columns])[0]\n",
        "wx_2_centroid_1 = get_closest_to_centroid(wx_cluster_2[req_columns])[1]\n",
        "wx_3_centroid_0 = get_closest_to_centroid(wx_cluster_3[req_columns])[0]\n",
        "wx_3_centroid_1 = get_closest_to_centroid(wx_cluster_3[req_columns])[1]\n",
        "wx_4_centroid_0 = get_closest_to_centroid(wx_cluster_4[req_columns])[0]\n",
        "wx_4_centroid_1 = get_closest_to_centroid(wx_cluster_4[req_columns])[1]"
      ],
      "execution_count": 0,
      "outputs": []
    },
    {
      "cell_type": "code",
      "metadata": {
        "id": "OcksWcKtNphF",
        "colab_type": "code",
        "outputId": "341f3865-a36b-47b4-d9ae-0d63ebb9dd05",
        "colab": {
          "base_uri": "https://localhost:8080/",
          "height": 187
        }
      },
      "source": [
        "wx_0_centroid_0_city = wx_cluster_0.loc[wx_0_centroid_0]['City']\n",
        "wx_0_centroid_1_city = wx_cluster_0.loc[wx_0_centroid_1]['City']\n",
        "wx_1_centroid_0_city = wx_cluster_1.loc[wx_1_centroid_0]['City']\n",
        "wx_1_centroid_1_city = wx_cluster_1.loc[wx_1_centroid_1]['City']\n",
        "wx_2_centroid_0_city = wx_cluster_2.loc[wx_2_centroid_0]['City']\n",
        "wx_2_centroid_1_city = wx_cluster_2.loc[wx_2_centroid_1]['City']\n",
        "wx_3_centroid_0_city = wx_cluster_3.loc[wx_3_centroid_0]['City']\n",
        "wx_3_centroid_1_city = wx_cluster_3.loc[wx_3_centroid_1]['City']\n",
        "wx_4_centroid_0_city = wx_cluster_4.loc[wx_4_centroid_0]['City']\n",
        "wx_4_centroid_1_city = wx_cluster_4.loc[wx_4_centroid_1]['City']\n",
        "cities_list = [wx_0_centroid_0_city,wx_0_centroid_1_city,wx_1_centroid_0_city,wx_1_centroid_1_city,wx_2_centroid_0_city,wx_2_centroid_1_city,wx_3_centroid_0_city,wx_3_centroid_1_city,wx_4_centroid_0_city,wx_4_centroid_1_city]\n",
        "\n",
        "cities_list"
      ],
      "execution_count": 0,
      "outputs": [
        {
          "output_type": "execute_result",
          "data": {
            "text/plain": [
              "['Lakewood',\n",
              " 'Los Angeles',\n",
              " 'San Luis Obispo',\n",
              " 'San Francisco',\n",
              " 'Atwater',\n",
              " 'Bakersfield',\n",
              " 'South Lake Tahoe',\n",
              " 'Sacramento',\n",
              " 'Santa Clarita',\n",
              " 'Beaumont']"
            ]
          },
          "metadata": {
            "tags": []
          },
          "execution_count": 29
        }
      ]
    },
    {
      "cell_type": "markdown",
      "metadata": {
        "id": "wMq4p6viw7ga",
        "colab_type": "text"
      },
      "source": [
        "# Creating Test and Training Split"
      ]
    },
    {
      "cell_type": "code",
      "metadata": {
        "id": "0oaxnb-8NphH",
        "colab_type": "code",
        "colab": {}
      },
      "source": [
        "#Create test and training set\n",
        "cities = cities_list\n",
        "df = city_wx_data[city_wx_data.City == cities[0]].drop('City', axis = 1)\n",
        "df = df.reset_index()\n",
        "df = df.drop('index', axis = 1)\n",
        "req_cols = list(df.columns[0:4])\n",
        "mod_cols = list(df.columns[4:len(df.columns)])\n",
        "append_str = cities[0]\n",
        "mod_cols = [append_str + ' ' + sub for sub in mod_cols] \n",
        "mod_cols = [sub.replace(' ', '_') for sub in mod_cols]\n",
        "mod_cols = [sub.lower() for sub in mod_cols]\n",
        "new_cols = req_cols+mod_cols\n",
        "df.columns = new_cols\n",
        "\n",
        "\n",
        "\n",
        "for i in range(1,len(cities)):\n",
        "    df_1 = city_wx_data[city_wx_data.City == cities[i]].drop('City', axis = 1)\n",
        "    df_1 = df_1.reset_index()\n",
        "    df_1 = df_1.drop('index', axis = 1)\n",
        "    req_cols_1 = list(df_1.columns[0:4])\n",
        "    mod_cols_1 = list(df_1.columns[4:len(df_1.columns)])\n",
        "    append_str = cities[i]\n",
        "    mod_cols_1 = [append_str + ' ' + sub for sub in mod_cols_1] \n",
        "    mod_cols_1 = [sub.replace(' ', '_') for sub in mod_cols_1]\n",
        "    mod_cols_1 = [sub.lower() for sub in mod_cols_1]\n",
        "    new_cols_1 = req_cols_1+mod_cols_1\n",
        "    df_1.columns = new_cols_1\n",
        "    df = df.merge(df_1, on = req_cols)\n",
        "\n",
        "    \n",
        "final_data = df.merge(caiso_total,on = ['Day', 'Year', 'Hour', 'Month'])\n",
        "final_data = final_data.drop(['Date','PGE','SCE','SDGE','VEA'],axis = 1)\n",
        "final_data_X = final_data.drop(['CAISO Total'],axis = 1)\n",
        "final_data_X_train = final_data_X[(final_data_X['Year'] < 2018)]\n",
        "final_data_X_test = final_data_X[final_data_X.Year == 2018]\n",
        "final_data_Y_train = final_data[(final_data_X['Year'] < 2018)]['CAISO Total']\n",
        "final_data_Y_test = final_data[final_data.Year == 2018]['CAISO Total']"
      ],
      "execution_count": 0,
      "outputs": []
    },
    {
      "cell_type": "markdown",
      "metadata": {
        "id": "M4XOgyf_xFq4",
        "colab_type": "text"
      },
      "source": [
        "# Modelling Section - Basic SVR and RF"
      ]
    },
    {
      "cell_type": "code",
      "metadata": {
        "scrolled": true,
        "id": "-Ic6R455NphT",
        "colab_type": "code",
        "outputId": "9270bdff-2733-4d56-b385-a1e2ed4eb719",
        "colab": {
          "base_uri": "https://localhost:8080/",
          "height": 136
        }
      },
      "source": [
        "from sklearn.ensemble import RandomForestRegressor\n",
        "rf_regressor = RandomForestRegressor(n_estimators = 300, random_state = 0)\n",
        "rf_regressor.fit(final_data_X_train, final_data_Y_train)\n",
        "\n"
      ],
      "execution_count": 0,
      "outputs": [
        {
          "output_type": "execute_result",
          "data": {
            "text/plain": [
              "RandomForestRegressor(bootstrap=True, ccp_alpha=0.0, criterion='mse',\n",
              "                      max_depth=None, max_features='auto', max_leaf_nodes=None,\n",
              "                      max_samples=None, min_impurity_decrease=0.0,\n",
              "                      min_impurity_split=None, min_samples_leaf=1,\n",
              "                      min_samples_split=2, min_weight_fraction_leaf=0.0,\n",
              "                      n_estimators=300, n_jobs=None, oob_score=False,\n",
              "                      random_state=0, verbose=0, warm_start=False)"
            ]
          },
          "metadata": {
            "tags": []
          },
          "execution_count": 31
        }
      ]
    },
    {
      "cell_type": "code",
      "metadata": {
        "id": "3nH0utZ0s-dK",
        "colab_type": "code",
        "outputId": "7b5b64ee-6f09-41ff-f035-00ccf9d7bc2d",
        "colab": {
          "base_uri": "https://localhost:8080/",
          "height": 215
        }
      },
      "source": [
        "from sklearn.model_selection import GridSearchCV \n",
        "from sklearn.svm import SVR\n",
        "svr_regressor = SVR()\n",
        "svr_regressor.fit(final_data_X_train, final_data_Y_train) \n",
        "# defining parameter range \n",
        "param_grid = {'C': [0.1, 1, 10, 100, 1000],  \n",
        "              'gamma': [1, 0.1, 0.01, 0.001, 0.0001], \n",
        "              'kernel': ['rbf']}  \n",
        "  \n",
        "svr_regressor_1 = GridSearchCV(SVR(), param_grid, refit = True, verbose = 3) \n",
        "  \n",
        "# fitting the model for grid search \n",
        "svr_regressor_1.fit(X_train, y_train) \n",
        "y_pred_svr = svr_regressor_1.predict(final_data_X_test)"
      ],
      "execution_count": 0,
      "outputs": [
        {
          "output_type": "error",
          "ename": "NameError",
          "evalue": "ignored",
          "traceback": [
            "\u001b[0;31m---------------------------------------------------------------------------\u001b[0m",
            "\u001b[0;31mNameError\u001b[0m                                 Traceback (most recent call last)",
            "\u001b[0;32m<ipython-input-32-7d4ec5060349>\u001b[0m in \u001b[0;36m<module>\u001b[0;34m()\u001b[0m\n\u001b[1;32m     11\u001b[0m \u001b[0;34m\u001b[0m\u001b[0m\n\u001b[1;32m     12\u001b[0m \u001b[0;31m# fitting the model for grid search\u001b[0m\u001b[0;34m\u001b[0m\u001b[0;34m\u001b[0m\u001b[0;34m\u001b[0m\u001b[0m\n\u001b[0;32m---> 13\u001b[0;31m \u001b[0msvr_regressor_1\u001b[0m\u001b[0;34m.\u001b[0m\u001b[0mfit\u001b[0m\u001b[0;34m(\u001b[0m\u001b[0mX_train\u001b[0m\u001b[0;34m,\u001b[0m \u001b[0my_train\u001b[0m\u001b[0;34m)\u001b[0m\u001b[0;34m\u001b[0m\u001b[0;34m\u001b[0m\u001b[0m\n\u001b[0m\u001b[1;32m     14\u001b[0m \u001b[0my_pred_svr\u001b[0m \u001b[0;34m=\u001b[0m \u001b[0msvr_regressor_1\u001b[0m\u001b[0;34m.\u001b[0m\u001b[0mpredict\u001b[0m\u001b[0;34m(\u001b[0m\u001b[0mfinal_data_X_test\u001b[0m\u001b[0;34m)\u001b[0m\u001b[0;34m\u001b[0m\u001b[0;34m\u001b[0m\u001b[0m\n",
            "\u001b[0;31mNameError\u001b[0m: name 'X_train' is not defined"
          ]
        }
      ]
    },
    {
      "cell_type": "code",
      "metadata": {
        "id": "xWGOHyeYNphX",
        "colab_type": "code",
        "colab": {}
      },
      "source": [
        "y_pred_rf = rf_regressor.predict(final_data_X_test)\n",
        "y_test = list(final_data_Y_test)\n",
        "import numpy as np\n",
        "\n",
        "def mean_absolute_percentage_error(y_true, y_pred): \n",
        "    y_true, y_pred = np.array(y_true), np.array(y_pred)\n",
        "    return np.mean(np.abs((y_true - y_pred) / y_true)) * 100"
      ],
      "execution_count": 0,
      "outputs": []
    },
    {
      "cell_type": "markdown",
      "metadata": {
        "id": "fWkiQUZ6IkFh",
        "colab_type": "text"
      },
      "source": [
        "# Decision Tree Section"
      ]
    },
    {
      "cell_type": "code",
      "metadata": {
        "id": "45HE7PthI4JT",
        "colab_type": "code",
        "outputId": "e5858beb-cfb2-446e-debc-ebc54b725c15",
        "colab": {
          "base_uri": "https://localhost:8080/",
          "height": 102
        }
      },
      "source": [
        "from sklearn import tree\n",
        "from sklearn.tree import DecisionTreeRegressor\n",
        "tree = DecisionTreeRegressor()\n",
        "tree.fit(final_data_X_train, final_data_Y_train)\n",
        "\n",
        "print('features: {}'.format(tree.tree_.n_features))\n",
        "print(\"Number of nodes (leaves): {}\".format(tree.tree_.node_count), \"\\n\")\n",
        "\n",
        "train_score = tree.score(final_data_X_train, final_data_Y_train)\n",
        "test_score = tree.score(final_data_X_test, final_data_Y_test)\n",
        "y_pred_tree = tree.predict(final_data_X_test)\n",
        "\n",
        "print(train_score)\n",
        "print(test_score)"
      ],
      "execution_count": 0,
      "outputs": [
        {
          "output_type": "stream",
          "text": [
            "features: 76\n",
            "Number of nodes (leaves): 17517 \n",
            "\n",
            "1.0\n",
            "0.7309841299471996\n"
          ],
          "name": "stdout"
        }
      ]
    },
    {
      "cell_type": "code",
      "metadata": {
        "id": "jCtNRx-SW0OR",
        "colab_type": "code",
        "outputId": "081ebc41-d054-4c7c-f207-387030d4724a",
        "colab": {
          "base_uri": "https://localhost:8080/",
          "height": 419
        }
      },
      "source": [
        "pd.DataFrame({'Feature': final_data_X_train.columns, 'Importance': tree.feature_importances_}).sort_values(by ='Importance', ascending = False)"
      ],
      "execution_count": 0,
      "outputs": [
        {
          "output_type": "execute_result",
          "data": {
            "text/html": [
              "<div>\n",
              "<style scoped>\n",
              "    .dataframe tbody tr th:only-of-type {\n",
              "        vertical-align: middle;\n",
              "    }\n",
              "\n",
              "    .dataframe tbody tr th {\n",
              "        vertical-align: top;\n",
              "    }\n",
              "\n",
              "    .dataframe thead th {\n",
              "        text-align: right;\n",
              "    }\n",
              "</style>\n",
              "<table border=\"1\" class=\"dataframe\">\n",
              "  <thead>\n",
              "    <tr style=\"text-align: right;\">\n",
              "      <th></th>\n",
              "      <th>Feature</th>\n",
              "      <th>Importance</th>\n",
              "    </tr>\n",
              "  </thead>\n",
              "  <tbody>\n",
              "    <tr>\n",
              "      <th>33</th>\n",
              "      <td>atwater_relative_humidity</td>\n",
              "      <td>4.725321e-01</td>\n",
              "    </tr>\n",
              "    <tr>\n",
              "      <th>3</th>\n",
              "      <td>Hour</td>\n",
              "      <td>2.622625e-01</td>\n",
              "    </tr>\n",
              "    <tr>\n",
              "      <th>74</th>\n",
              "      <td>Day_of_week</td>\n",
              "      <td>5.959265e-02</td>\n",
              "    </tr>\n",
              "    <tr>\n",
              "      <th>32</th>\n",
              "      <td>atwater_temperature</td>\n",
              "      <td>4.887957e-02</td>\n",
              "    </tr>\n",
              "    <tr>\n",
              "      <th>39</th>\n",
              "      <td>bakersfield_temperature</td>\n",
              "      <td>4.577371e-02</td>\n",
              "    </tr>\n",
              "    <tr>\n",
              "      <th>...</th>\n",
              "      <td>...</td>\n",
              "      <td>...</td>\n",
              "    </tr>\n",
              "    <tr>\n",
              "      <th>30</th>\n",
              "      <td>san_francisco_dew_point</td>\n",
              "      <td>1.410672e-04</td>\n",
              "    </tr>\n",
              "    <tr>\n",
              "      <th>8</th>\n",
              "      <td>lakewood_cloud_type</td>\n",
              "      <td>6.744324e-05</td>\n",
              "    </tr>\n",
              "    <tr>\n",
              "      <th>36</th>\n",
              "      <td>atwater_cloud_type</td>\n",
              "      <td>5.573809e-05</td>\n",
              "    </tr>\n",
              "    <tr>\n",
              "      <th>64</th>\n",
              "      <td>santa_clarita_cloud_type</td>\n",
              "      <td>4.695212e-05</td>\n",
              "    </tr>\n",
              "    <tr>\n",
              "      <th>0</th>\n",
              "      <td>Year</td>\n",
              "      <td>2.531360e-10</td>\n",
              "    </tr>\n",
              "  </tbody>\n",
              "</table>\n",
              "<p>76 rows × 2 columns</p>\n",
              "</div>"
            ],
            "text/plain": [
              "                      Feature    Importance\n",
              "33  atwater_relative_humidity  4.725321e-01\n",
              "3                        Hour  2.622625e-01\n",
              "74                Day_of_week  5.959265e-02\n",
              "32        atwater_temperature  4.887957e-02\n",
              "39    bakersfield_temperature  4.577371e-02\n",
              "..                        ...           ...\n",
              "30    san_francisco_dew_point  1.410672e-04\n",
              "8         lakewood_cloud_type  6.744324e-05\n",
              "36         atwater_cloud_type  5.573809e-05\n",
              "64   santa_clarita_cloud_type  4.695212e-05\n",
              "0                        Year  2.531360e-10\n",
              "\n",
              "[76 rows x 2 columns]"
            ]
          },
          "metadata": {
            "tags": []
          },
          "execution_count": 35
        }
      ]
    },
    {
      "cell_type": "code",
      "metadata": {
        "id": "vi7JQ-DcraqQ",
        "colab_type": "code",
        "outputId": "c19e9f65-3a9c-4915-e6fb-6fe0733b3b9a",
        "colab": {
          "base_uri": "https://localhost:8080/",
          "height": 496
        }
      },
      "source": [
        "# # Plot the feature importances of the forest\n",
        "plt.figure()\n",
        "plt.title(\"Feature importances\")\n",
        "plt.bar(range(final_data_X_train.shape[1]), importances[indices],\n",
        "        color=\"r\", yerr=std[indices], align=\"center\")\n",
        "plt.show()"
      ],
      "execution_count": 0,
      "outputs": [
        {
          "output_type": "error",
          "ename": "NameError",
          "evalue": "ignored",
          "traceback": [
            "\u001b[0;31m---------------------------------------------------------------------------\u001b[0m",
            "\u001b[0;31mNameError\u001b[0m                                 Traceback (most recent call last)",
            "\u001b[0;32m<ipython-input-36-dfa37574635a>\u001b[0m in \u001b[0;36m<module>\u001b[0;34m()\u001b[0m\n\u001b[1;32m      1\u001b[0m \u001b[0mplt\u001b[0m\u001b[0;34m.\u001b[0m\u001b[0mfigure\u001b[0m\u001b[0;34m(\u001b[0m\u001b[0;34m)\u001b[0m\u001b[0;34m\u001b[0m\u001b[0;34m\u001b[0m\u001b[0m\n\u001b[1;32m      2\u001b[0m \u001b[0mplt\u001b[0m\u001b[0;34m.\u001b[0m\u001b[0mtitle\u001b[0m\u001b[0;34m(\u001b[0m\u001b[0;34m\"Feature importances\"\u001b[0m\u001b[0;34m)\u001b[0m\u001b[0;34m\u001b[0m\u001b[0;34m\u001b[0m\u001b[0m\n\u001b[0;32m----> 3\u001b[0;31m plt.bar(range(final_data_X_train.shape[1]), importances[indices],\n\u001b[0m\u001b[1;32m      4\u001b[0m         color=\"r\", yerr=std[indices], align=\"center\")\n\u001b[1;32m      5\u001b[0m \u001b[0mplt\u001b[0m\u001b[0;34m.\u001b[0m\u001b[0mshow\u001b[0m\u001b[0;34m(\u001b[0m\u001b[0;34m)\u001b[0m\u001b[0;34m\u001b[0m\u001b[0;34m\u001b[0m\u001b[0m\n",
            "\u001b[0;31mNameError\u001b[0m: name 'importances' is not defined"
          ]
        },
        {
          "output_type": "display_data",
          "data": {
            "image/png": "[encoded data removed]",
            "text/plain": [
              "<Figure size 432x288 with 1 Axes>"
            ]
          },
          "metadata": {
            "tags": [],
            "needs_background": "light"
          }
        }
      ]
    },
    {
      "cell_type": "code",
      "metadata": {
        "id": "CE4SakIbI4e4",
        "colab_type": "code",
        "colab": {}
      },
      "source": [
        "# tuned tree\n",
        "from sklearn.model_selection import RandomizedSearchCV\n",
        "from scipy.stats import randint\n",
        "\n",
        "parameters = {'max_leaf_nodes': randint(3, 200),\n",
        "              'max_features': randint(2, 76),\n",
        "              'max_depth': randint(1, 10)}\n",
        "rnd_params = RandomizedSearchCV(tree, param_distributions = parameters, cv = 10, n_iter = 200)\n",
        "rnd_params.fit(final_data_X_train, final_data_Y_train)\n",
        "\n",
        "best_parameters = rnd_params.best_params_\n",
        "print(best_parameters)\n",
        "\n",
        "tree.set_params(max_features=best_parameters['max_features'], max_leaf_nodes=best_parameters['max_leaf_nodes'])\n",
        "tree.fit(final_data_X_train, final_data_Y_train)\n",
        "\n",
        "tuned_train_score = tree.score(final_data_X_train, final_data_Y_train)\n",
        "tuned_test_score = tree.score(final_data_X_test, final_data_Y_test)\n",
        "y_pred_tuned_tree = tree.predict(final_data_X_test)\n",
        "\n",
        "print(tuned_train_score)\n",
        "print(tuned_test_score)\n",
        "\n",
        "\n",
        "#tree.export_graphviz(tree, 'tuned_tree.dot', feature_names = final_data_X_train.columns)\n",
        "#! dot -Tpng tuned_tree.dot -o tuned_tree.png"
      ],
      "execution_count": 0,
      "outputs": []
    },
    {
      "cell_type": "code",
      "metadata": {
        "id": "mEDMmtCUZHBJ",
        "colab_type": "code",
        "colab": {}
      },
      "source": [
        "print(rnd_params.best_score_)"
      ],
      "execution_count": 0,
      "outputs": []
    },
    {
      "cell_type": "markdown",
      "metadata": {
        "id": "LFxyk0TfxfTr",
        "colab_type": "text"
      },
      "source": [
        "# Randomized Search for Hyperparameter Tuning (RF Regression)"
      ]
    },
    {
      "cell_type": "code",
      "metadata": {
        "id": "o-eHZkAzNphp",
        "colab_type": "code",
        "colab": {}
      },
      "source": [
        "from sklearn.model_selection import RandomizedSearchCV\n",
        "from scipy.stats import randint\n",
        "from sklearn.ensemble import RandomForestRegressor\n",
        "\n",
        "rf_tree = RandomForestRegressor()\n",
        "rf_tree.fit(final_data_X_train, final_data_Y_train)\n",
        "\n",
        "param_dist = {'n_estimators': randint(10, 100),\n",
        "               'max_leaf_nodes': randint(3, 100),\n",
        "               'max_features': [\"auto\"],\n",
        "               'max_depth': randint(1, 10),\n",
        "               'min_samples_leaf': randint(1, 30),\n",
        "               'min_samples_split': randint(2, 20)}\n",
        "\n",
        "rnd_search_rf = RandomizedSearchCV(rf_tree, param_distributions=param_dist, \n",
        "                                 cv=10, n_iter=50)\n",
        "rnd_search_rf.fit(final_data_X_train, final_data_Y_train)\n",
        "\n",
        "rf_tree.set_params(n_estimators=rnd_search_rf.best_params_['n_estimators'], \n",
        "                     max_leaf_nodes=rnd_search_rf.best_params_['max_leaf_nodes'], \n",
        "                     max_features = rnd_search_rf.best_params_['max_features'],\n",
        "                     max_depth = rnd_search_rf.best_params_['max_depth'],\n",
        "                     min_samples_leaf = rnd_search_rf.best_params_['min_samples_leaf'],\n",
        "                     min_samples_split = rnd_search_rf.best_params_['min_samples_split'])\n",
        "\n",
        "print(rnd_search_rf.best_params_)\n",
        "                   \n"
      ],
      "execution_count": 0,
      "outputs": []
    },
    {
      "cell_type": "code",
      "metadata": {
        "id": "TAd4w_CRnVmT",
        "colab_type": "code",
        "colab": {}
      },
      "source": [
        "rf_train_score = rf_tree.score(final_data_X_train, final_data_Y_train)\n",
        "rf_test_score = rf_tree.score(final_data_X_test, final_data_Y_test)\n",
        "print(rf_train_score)\n",
        "print(rf_test_score) \n"
      ],
      "execution_count": 0,
      "outputs": []
    },
    {
      "cell_type": "markdown",
      "metadata": {
        "id": "eTVdPJoDxR8l",
        "colab_type": "text"
      },
      "source": [
        "# Feature Importances from RF Regression"
      ]
    },
    {
      "cell_type": "code",
      "metadata": {
        "id": "PkgrfgRjNph1",
        "colab_type": "code",
        "colab": {}
      },
      "source": [
        "importances = rf_tree.feature_importances_\n",
        "std = np.std([tree.feature_importances_ for tree in rf_tree.estimators_],\n",
        "              axis=0)\n",
        "indices = np.argsort(importances)[::-1]\n",
        "\n",
        "#Print the feature ranking\n",
        "print(\"Feature ranking:\")\n",
        "\n",
        "for f in range(final_data_X_train.shape[1]):\n",
        "     print(\"%d. %s (%f)\" % (f, final_data_X_train.columns[indices[f]], importances[indices[f]]))\n",
        "\n",
        "# # Plot the feature importances of the forest\n",
        "plt.figure()\n",
        "plt.title(\"Feature importances\")\n",
        "plt.bar(range(final_data_X_train.shape[1]), importances[indices],\n",
        "        color=\"r\", yerr=std[indices], align=\"center\")\n",
        "plt.show()"
      ],
      "execution_count": 0,
      "outputs": []
    },
    {
      "cell_type": "code",
      "metadata": {
        "id": "3GTeb5YFoGS2",
        "colab_type": "code",
        "colab": {}
      },
      "source": [
        "pd.DataFrame({'Feature': final_data_X_train.columns, 'Importance': rf_tree.feature_importances_}).sort_values(by ='Importance', ascending = False)"
      ],
      "execution_count": 0,
      "outputs": []
    },
    {
      "cell_type": "code",
      "metadata": {
        "id": "c654ZWIcwbDX",
        "colab_type": "code",
        "colab": {}
      },
      "source": [
        "from sklearn.model_selection import GridSearchCV \n",
        "from sklearn.svm import SVR\n",
        "svr_regressor = SVR()\n",
        "svr_regressor.fit(final_data_X_train, final_data_Y_train) \n",
        "# defining parameter range \n",
        "param_grid = {'C': [0.1, 1, 10, 100, 1000],  \n",
        "              'gamma': [1, 0.1, 0.01, 0.001, 0.0001], \n",
        "              'kernel': ['rbf']}  \n",
        "  \n",
        "svr_regressor_1 = GridSearchCV(SVR(), param_grid, refit = True, verbose = 3) \n",
        "  \n",
        "# fitting the model for grid search \n",
        "svr_regressor_1.fit(final_data_X_train, final_data_Y_train)\n",
        "y_pred_svr = svr_regressor_1.predict(final_data_X_test)"
      ],
      "execution_count": 0,
      "outputs": []
    },
    {
      "cell_type": "markdown",
      "metadata": {
        "id": "-41gookGsqN8",
        "colab_type": "text"
      },
      "source": [
        "#Results and MAPE Analysis -- create MAPE Pivot Tables"
      ]
    },
    {
      "cell_type": "code",
      "metadata": {
        "id": "1lNta11nNph5",
        "colab_type": "code",
        "colab": {}
      },
      "source": [
        "results_df = final_data[final_data.Year == 2018]\n",
        "results_df = results_df[['Day', 'Month','Hour', 'Year', 'CAISO Total']]\n",
        "results_df['RF_Tuned_Prediction'] = rf_tree.predict(final_data_X_test)\n",
        "results_df['RF_Basic_Prediction'] = y_pred_rf\n",
        "results_df['SVR_Prediction'] = y_pred_svr\n",
        "results_df['DTree_Prediction'] = y_pred_tree\n",
        "results_df['DTree_Tuned_Prediction'] = y_pred_tuned_tree"
      ],
      "execution_count": 0,
      "outputs": []
    },
    {
      "cell_type": "code",
      "metadata": {
        "id": "jlMki6khNph9",
        "colab_type": "code",
        "outputId": "2103736b-2b37-4412-fc6c-b387fbacb2ab",
        "colab": {
          "base_uri": "https://localhost:8080/",
          "height": 252
        }
      },
      "source": [
        "results_df['Hourly_MAPE_RF_Basic'] = abs((results_df['CAISO Total'] - results_df['RF_Basic_Prediction'])/results_df['CAISO Total'])*100\n",
        "results_df['Hourly_MAPE_RF_Tuned'] = abs((results_df['CAISO Total'] - results_df['RF_Tuned_Prediction'])/results_df['CAISO Total'])*100\n",
        "results_df['Hourly_MAPE_SVR'] = abs((results_df['CAISO Total'] - results_df['SVR_Prediction'])/results_df['CAISO Total'])*100\n",
        "results_df['Hourly_MAPE_DTree'] = abs((results_df['CAISO Total'] - results_df['DTree_Prediction'])/results_df['CAISO Total'])*100\n",
        "results_df['Hourly_MAPE_DTree_Tuned'] = abs((results_df['CAISO Total'] - results_df['DTree_Tuned_Prediction'])/results_df['CAISO Total'])*100\n",
        "results_df"
      ],
      "execution_count": 0,
      "outputs": [
        {
          "output_type": "error",
          "ename": "NameError",
          "evalue": "ignored",
          "traceback": [
            "\u001b[0;31m---------------------------------------------------------------------------\u001b[0m",
            "\u001b[0;31mNameError\u001b[0m                                 Traceback (most recent call last)",
            "\u001b[0;32m<ipython-input-3-d471eaa7d0f0>\u001b[0m in \u001b[0;36m<module>\u001b[0;34m()\u001b[0m\n\u001b[0;32m----> 1\u001b[0;31m \u001b[0mresults_df\u001b[0m\u001b[0;34m[\u001b[0m\u001b[0;34m'Hourly_MAPE_RF_Basic'\u001b[0m\u001b[0;34m]\u001b[0m \u001b[0;34m=\u001b[0m \u001b[0mabs\u001b[0m\u001b[0;34m(\u001b[0m\u001b[0;34m(\u001b[0m\u001b[0mresults_df\u001b[0m\u001b[0;34m[\u001b[0m\u001b[0;34m'CAISO Total'\u001b[0m\u001b[0;34m]\u001b[0m \u001b[0;34m-\u001b[0m \u001b[0mresults_df\u001b[0m\u001b[0;34m[\u001b[0m\u001b[0;34m'RF_Basic_Prediction'\u001b[0m\u001b[0;34m]\u001b[0m\u001b[0;34m)\u001b[0m\u001b[0;34m/\u001b[0m\u001b[0mresults_df\u001b[0m\u001b[0;34m[\u001b[0m\u001b[0;34m'CAISO Total'\u001b[0m\u001b[0;34m]\u001b[0m\u001b[0;34m)\u001b[0m\u001b[0;34m*\u001b[0m\u001b[0;36m100\u001b[0m\u001b[0;34m\u001b[0m\u001b[0;34m\u001b[0m\u001b[0m\n\u001b[0m\u001b[1;32m      2\u001b[0m \u001b[0mresults_df\u001b[0m\u001b[0;34m[\u001b[0m\u001b[0;34m'Hourly_MAPE_RF_Tuned'\u001b[0m\u001b[0;34m]\u001b[0m \u001b[0;34m=\u001b[0m \u001b[0mabs\u001b[0m\u001b[0;34m(\u001b[0m\u001b[0;34m(\u001b[0m\u001b[0mresults_df\u001b[0m\u001b[0;34m[\u001b[0m\u001b[0;34m'CAISO Total'\u001b[0m\u001b[0;34m]\u001b[0m \u001b[0;34m-\u001b[0m \u001b[0mresults_df\u001b[0m\u001b[0;34m[\u001b[0m\u001b[0;34m'RF_Tuned_Prediction'\u001b[0m\u001b[0;34m]\u001b[0m\u001b[0;34m)\u001b[0m\u001b[0;34m/\u001b[0m\u001b[0mresults_df\u001b[0m\u001b[0;34m[\u001b[0m\u001b[0;34m'CAISO Total'\u001b[0m\u001b[0;34m]\u001b[0m\u001b[0;34m)\u001b[0m\u001b[0;34m*\u001b[0m\u001b[0;36m100\u001b[0m\u001b[0;34m\u001b[0m\u001b[0;34m\u001b[0m\u001b[0m\n\u001b[1;32m      3\u001b[0m \u001b[0mresults_df\u001b[0m\u001b[0;34m[\u001b[0m\u001b[0;34m'Hourly_MAPE_SVR'\u001b[0m\u001b[0;34m]\u001b[0m \u001b[0;34m=\u001b[0m \u001b[0mabs\u001b[0m\u001b[0;34m(\u001b[0m\u001b[0;34m(\u001b[0m\u001b[0mresults_df\u001b[0m\u001b[0;34m[\u001b[0m\u001b[0;34m'CAISO Total'\u001b[0m\u001b[0;34m]\u001b[0m \u001b[0;34m-\u001b[0m \u001b[0mresults_df\u001b[0m\u001b[0;34m[\u001b[0m\u001b[0;34m'SVR_Prediction'\u001b[0m\u001b[0;34m]\u001b[0m\u001b[0;34m)\u001b[0m\u001b[0;34m/\u001b[0m\u001b[0mresults_df\u001b[0m\u001b[0;34m[\u001b[0m\u001b[0;34m'CAISO Total'\u001b[0m\u001b[0;34m]\u001b[0m\u001b[0;34m)\u001b[0m\u001b[0;34m*\u001b[0m\u001b[0;36m100\u001b[0m\u001b[0;34m\u001b[0m\u001b[0;34m\u001b[0m\u001b[0m\n\u001b[1;32m      4\u001b[0m \u001b[0mresults_df\u001b[0m\u001b[0;34m[\u001b[0m\u001b[0;34m'Hourly_MAPE_DTree'\u001b[0m\u001b[0;34m]\u001b[0m \u001b[0;34m=\u001b[0m \u001b[0mabs\u001b[0m\u001b[0;34m(\u001b[0m\u001b[0;34m(\u001b[0m\u001b[0mresults_df\u001b[0m\u001b[0;34m[\u001b[0m\u001b[0;34m'CAISO Total'\u001b[0m\u001b[0;34m]\u001b[0m \u001b[0;34m-\u001b[0m \u001b[0mresults_df\u001b[0m\u001b[0;34m[\u001b[0m\u001b[0;34m'DTree_Prediction'\u001b[0m\u001b[0;34m]\u001b[0m\u001b[0;34m)\u001b[0m\u001b[0;34m/\u001b[0m\u001b[0mresults_df\u001b[0m\u001b[0;34m[\u001b[0m\u001b[0;34m'CAISO Total'\u001b[0m\u001b[0;34m]\u001b[0m\u001b[0;34m)\u001b[0m\u001b[0;34m*\u001b[0m\u001b[0;36m100\u001b[0m\u001b[0;34m\u001b[0m\u001b[0;34m\u001b[0m\u001b[0m\n\u001b[1;32m      5\u001b[0m \u001b[0mresults_df\u001b[0m\u001b[0;34m[\u001b[0m\u001b[0;34m'Hourly_MAPE_DTree_Tuned'\u001b[0m\u001b[0;34m]\u001b[0m \u001b[0;34m=\u001b[0m \u001b[0mabs\u001b[0m\u001b[0;34m(\u001b[0m\u001b[0;34m(\u001b[0m\u001b[0mresults_df\u001b[0m\u001b[0;34m[\u001b[0m\u001b[0;34m'CAISO Total'\u001b[0m\u001b[0;34m]\u001b[0m \u001b[0;34m-\u001b[0m \u001b[0mresults_df\u001b[0m\u001b[0;34m[\u001b[0m\u001b[0;34m'DTree_Tuned_Prediction'\u001b[0m\u001b[0;34m]\u001b[0m\u001b[0;34m)\u001b[0m\u001b[0;34m/\u001b[0m\u001b[0mresults_df\u001b[0m\u001b[0;34m[\u001b[0m\u001b[0;34m'CAISO Total'\u001b[0m\u001b[0;34m]\u001b[0m\u001b[0;34m)\u001b[0m\u001b[0;34m*\u001b[0m\u001b[0;36m100\u001b[0m\u001b[0;34m\u001b[0m\u001b[0;34m\u001b[0m\u001b[0m\n",
            "\u001b[0;31mNameError\u001b[0m: name 'results_df' is not defined"
          ]
        }
      ]
    },
    {
      "cell_type": "code",
      "metadata": {
        "id": "a6digzybGrVr",
        "colab_type": "code",
        "colab": {}
      },
      "source": [
        "# get count by month\n"
      ],
      "execution_count": 0,
      "outputs": []
    },
    {
      "cell_type": "code",
      "metadata": {
        "id": "uUdEWBdSGhO8",
        "colab_type": "code",
        "outputId": "e7e02855-847f-4ed5-9faf-4045cbf8d4db",
        "colab": {
          "base_uri": "https://localhost:8080/",
          "height": 34
        }
      },
      "source": [
        "\n",
        "def get_month_count(df):\n",
        "  month = [0]*12   \n",
        "  for i in range(0, len(df)):\n",
        "    if df['Month'].iloc[i] == 1:\n",
        "        month[0] += 1\n",
        "    elif df['Month'].iloc[i] == 2:\n",
        "        month[1] += 1\n",
        "    elif df['Month'].iloc[i] == 3:\n",
        "        month[2] += 1\n",
        "    elif df['Month'].iloc[i] == 4:\n",
        "        month[3] += 1\n",
        "    elif df['Month'].iloc[i] == 5:\n",
        "        month[4] += 1\n",
        "    elif df['Month'].iloc[i] == 6:\n",
        "        month[5] += 1\n",
        "    elif df['Month'].iloc[i] == 7:\n",
        "        month[6] += 1\n",
        "    elif df['Month'].iloc[i] == 8:\n",
        "       month[7] += 1\n",
        "    elif df['Month'].iloc[i] == 9:\n",
        "        month[8] += 1\n",
        "    elif df['Month'].iloc[i] == 10:\n",
        "        month[9] += 1\n",
        "    elif df['Month'].iloc[i] == 11:\n",
        "        month[10] += 1\n",
        "    elif df['Month'].iloc[i] == 12:\n",
        "        month[11] += 1\n",
        "  return month\n",
        "\n",
        "d = get_month_count(results_df)\n",
        "print(d)"
      ],
      "execution_count": 0,
      "outputs": [
        {
          "output_type": "stream",
          "text": [
            "[744, 672, 744, 720, 744, 720, 744, 744, 720, 744, 720, 720]\n"
          ],
          "name": "stdout"
        }
      ]
    },
    {
      "cell_type": "code",
      "metadata": {
        "id": "1FksrNWDNpiB",
        "colab_type": "code",
        "outputId": "075c28d2-a7d2-42f4-eb8b-5e5ed9acad2d",
        "colab": {
          "base_uri": "https://localhost:8080/",
          "height": 215
        }
      },
      "source": [
        "import pandas as pd \n",
        "\n",
        "def get_mape_by_month(df, column_name):\n",
        "  final = df.pivot_table(column_name, index = 'Month', aggfunc='sum')\n",
        "  return final \n",
        "\n",
        "def mean(dataframe, d):\n",
        "  for i in range(0, len(dataframe)):\n",
        "    dataframe.iloc[i] = dataframe.iloc[i] / d[i]\n",
        "  \n",
        "  return dataframe\n",
        "\n",
        "\n",
        "def create_mape_table(df, d):\n",
        "  final_frame = pd.DataFrame()\n",
        "  columns = list(df.columns[10:len(df.columns)])\n",
        "  for i, val in enumerate(columns): \n",
        "    temp = get_mape_by_month(df,val)\n",
        "    temp_frame = mean(temp, d)\n",
        "    final_frame = pd.concat([final_frame, temp_frame], axis = 1)\n",
        "  return final_frame \n",
        "\n",
        "final_frame = create_mape_table(results_df, d)\n",
        "final_frame\n",
        "#final_frame.drop(['Hourly_MAPE_SVR'], axis = 1)"
      ],
      "execution_count": 0,
      "outputs": [
        {
          "output_type": "error",
          "ename": "NameError",
          "evalue": "ignored",
          "traceback": [
            "\u001b[0;31m---------------------------------------------------------------------------\u001b[0m",
            "\u001b[0;31mNameError\u001b[0m                                 Traceback (most recent call last)",
            "\u001b[0;32m<ipython-input-5-c8cffca8ef95>\u001b[0m in \u001b[0;36m<module>\u001b[0;34m()\u001b[0m\n\u001b[1;32m     21\u001b[0m   \u001b[0;32mreturn\u001b[0m \u001b[0mfinal_frame\u001b[0m\u001b[0;34m\u001b[0m\u001b[0;34m\u001b[0m\u001b[0m\n\u001b[1;32m     22\u001b[0m \u001b[0;34m\u001b[0m\u001b[0m\n\u001b[0;32m---> 23\u001b[0;31m \u001b[0mfinal_frame\u001b[0m \u001b[0;34m=\u001b[0m \u001b[0mcreate_mape_table\u001b[0m\u001b[0;34m(\u001b[0m\u001b[0mresults_df\u001b[0m\u001b[0;34m,\u001b[0m \u001b[0md\u001b[0m\u001b[0;34m)\u001b[0m\u001b[0;34m\u001b[0m\u001b[0;34m\u001b[0m\u001b[0m\n\u001b[0m\u001b[1;32m     24\u001b[0m \u001b[0mfinal_frame\u001b[0m\u001b[0;34m.\u001b[0m\u001b[0mdrop\u001b[0m\u001b[0;34m(\u001b[0m\u001b[0;34m[\u001b[0m\u001b[0;34m'Hourly_MAPE_SVR'\u001b[0m\u001b[0;34m]\u001b[0m\u001b[0;34m,\u001b[0m \u001b[0maxis\u001b[0m \u001b[0;34m=\u001b[0m \u001b[0;36m1\u001b[0m\u001b[0;34m)\u001b[0m\u001b[0;34m\u001b[0m\u001b[0;34m\u001b[0m\u001b[0m\n",
            "\u001b[0;31mNameError\u001b[0m: name 'results_df' is not defined"
          ]
        }
      ]
    }
  ]
}